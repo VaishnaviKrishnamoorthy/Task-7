{
  "nbformat": 4,
  "nbformat_minor": 0,
  "metadata": {
    "colab": {
      "name": "Assignment-10.ipynb",
      "provenance": [],
      "collapsed_sections": [],
      "authorship_tag": "ABX9TyMofEUvV36pIAXdhvdkMJFD",
      "include_colab_link": true
    },
    "kernelspec": {
      "name": "python3",
      "display_name": "Python 3"
    },
    "language_info": {
      "name": "python"
    }
  },
  "cells": [
    {
      "cell_type": "markdown",
      "metadata": {
        "id": "view-in-github",
        "colab_type": "text"
      },
      "source": [
        "<a href=\"https://colab.research.google.com/github/VaishnaviKrishnamoorthy/Task-7/blob/main/Assignment_10.ipynb\" target=\"_parent\"><img src=\"https://colab.research.google.com/assets/colab-badge.svg\" alt=\"Open In Colab\"/></a>"
      ]
    },
    {
      "cell_type": "code",
      "execution_count": null,
      "metadata": {
        "id": "yFw9wzqfhl1s"
      },
      "outputs": [],
      "source": [
        "import matplotlib.pyplot as plt\n",
        "import pandas as pd\n",
        "import numpy as np\n",
        "from sklearn.neighbors import KNeighborsClassifier, KNeighborsRegressor\n",
        "from sklearn.linear_model import LogisticRegression\n",
        "from mlxtend.plotting import plot_decision_regions \n",
        "from sklearn.model_selection import cross_val_score "
      ]
    },
    {
      "cell_type": "code",
      "source": [
        "Train=pd.read_csv(\"/content/trainKNN.txt\",header=None,names=[\"id\",\"RI\",\"Na\",\"Mg\",\"AI\",\"Si\",\"K\",\"Ca\",\"Ba\",\"Fe\",\"Type of Glass\"])\n",
        "Train.head()"
      ],
      "metadata": {
        "colab": {
          "base_uri": "https://localhost:8080/",
          "height": 206
        },
        "id": "wqPemU3Ihxf4",
        "outputId": "1b7470b1-692b-4b1f-ebbe-8a668353e604"
      },
      "execution_count": null,
      "outputs": [
        {
          "output_type": "execute_result",
          "data": {
            "text/plain": [
              "   id       RI     Na    Mg    AI     Si     K    Ca   Ba   Fe  Type of Glass\n",
              "0   1  1.52101  13.64  4.49  1.10  71.78  0.06  8.75  0.0  0.0              1\n",
              "1   2  1.51761  13.89  3.60  1.36  72.73  0.48  7.83  0.0  0.0              1\n",
              "2   3  1.51618  13.53  3.55  1.54  72.99  0.39  7.78  0.0  0.0              1\n",
              "3   4  1.51766  13.21  3.69  1.29  72.61  0.57  8.22  0.0  0.0              1\n",
              "4   5  1.51742  13.27  3.62  1.24  73.08  0.55  8.07  0.0  0.0              1"
            ],
            "text/html": [
              "\n",
              "  <div id=\"df-32e1c72a-7129-47cc-856f-a6b6303cb70b\">\n",
              "    <div class=\"colab-df-container\">\n",
              "      <div>\n",
              "<style scoped>\n",
              "    .dataframe tbody tr th:only-of-type {\n",
              "        vertical-align: middle;\n",
              "    }\n",
              "\n",
              "    .dataframe tbody tr th {\n",
              "        vertical-align: top;\n",
              "    }\n",
              "\n",
              "    .dataframe thead th {\n",
              "        text-align: right;\n",
              "    }\n",
              "</style>\n",
              "<table border=\"1\" class=\"dataframe\">\n",
              "  <thead>\n",
              "    <tr style=\"text-align: right;\">\n",
              "      <th></th>\n",
              "      <th>id</th>\n",
              "      <th>RI</th>\n",
              "      <th>Na</th>\n",
              "      <th>Mg</th>\n",
              "      <th>AI</th>\n",
              "      <th>Si</th>\n",
              "      <th>K</th>\n",
              "      <th>Ca</th>\n",
              "      <th>Ba</th>\n",
              "      <th>Fe</th>\n",
              "      <th>Type of Glass</th>\n",
              "    </tr>\n",
              "  </thead>\n",
              "  <tbody>\n",
              "    <tr>\n",
              "      <th>0</th>\n",
              "      <td>1</td>\n",
              "      <td>1.52101</td>\n",
              "      <td>13.64</td>\n",
              "      <td>4.49</td>\n",
              "      <td>1.10</td>\n",
              "      <td>71.78</td>\n",
              "      <td>0.06</td>\n",
              "      <td>8.75</td>\n",
              "      <td>0.0</td>\n",
              "      <td>0.0</td>\n",
              "      <td>1</td>\n",
              "    </tr>\n",
              "    <tr>\n",
              "      <th>1</th>\n",
              "      <td>2</td>\n",
              "      <td>1.51761</td>\n",
              "      <td>13.89</td>\n",
              "      <td>3.60</td>\n",
              "      <td>1.36</td>\n",
              "      <td>72.73</td>\n",
              "      <td>0.48</td>\n",
              "      <td>7.83</td>\n",
              "      <td>0.0</td>\n",
              "      <td>0.0</td>\n",
              "      <td>1</td>\n",
              "    </tr>\n",
              "    <tr>\n",
              "      <th>2</th>\n",
              "      <td>3</td>\n",
              "      <td>1.51618</td>\n",
              "      <td>13.53</td>\n",
              "      <td>3.55</td>\n",
              "      <td>1.54</td>\n",
              "      <td>72.99</td>\n",
              "      <td>0.39</td>\n",
              "      <td>7.78</td>\n",
              "      <td>0.0</td>\n",
              "      <td>0.0</td>\n",
              "      <td>1</td>\n",
              "    </tr>\n",
              "    <tr>\n",
              "      <th>3</th>\n",
              "      <td>4</td>\n",
              "      <td>1.51766</td>\n",
              "      <td>13.21</td>\n",
              "      <td>3.69</td>\n",
              "      <td>1.29</td>\n",
              "      <td>72.61</td>\n",
              "      <td>0.57</td>\n",
              "      <td>8.22</td>\n",
              "      <td>0.0</td>\n",
              "      <td>0.0</td>\n",
              "      <td>1</td>\n",
              "    </tr>\n",
              "    <tr>\n",
              "      <th>4</th>\n",
              "      <td>5</td>\n",
              "      <td>1.51742</td>\n",
              "      <td>13.27</td>\n",
              "      <td>3.62</td>\n",
              "      <td>1.24</td>\n",
              "      <td>73.08</td>\n",
              "      <td>0.55</td>\n",
              "      <td>8.07</td>\n",
              "      <td>0.0</td>\n",
              "      <td>0.0</td>\n",
              "      <td>1</td>\n",
              "    </tr>\n",
              "  </tbody>\n",
              "</table>\n",
              "</div>\n",
              "      <button class=\"colab-df-convert\" onclick=\"convertToInteractive('df-32e1c72a-7129-47cc-856f-a6b6303cb70b')\"\n",
              "              title=\"Convert this dataframe to an interactive table.\"\n",
              "              style=\"display:none;\">\n",
              "        \n",
              "  <svg xmlns=\"http://www.w3.org/2000/svg\" height=\"24px\"viewBox=\"0 0 24 24\"\n",
              "       width=\"24px\">\n",
              "    <path d=\"M0 0h24v24H0V0z\" fill=\"none\"/>\n",
              "    <path d=\"M18.56 5.44l.94 2.06.94-2.06 2.06-.94-2.06-.94-.94-2.06-.94 2.06-2.06.94zm-11 1L8.5 8.5l.94-2.06 2.06-.94-2.06-.94L8.5 2.5l-.94 2.06-2.06.94zm10 10l.94 2.06.94-2.06 2.06-.94-2.06-.94-.94-2.06-.94 2.06-2.06.94z\"/><path d=\"M17.41 7.96l-1.37-1.37c-.4-.4-.92-.59-1.43-.59-.52 0-1.04.2-1.43.59L10.3 9.45l-7.72 7.72c-.78.78-.78 2.05 0 2.83L4 21.41c.39.39.9.59 1.41.59.51 0 1.02-.2 1.41-.59l7.78-7.78 2.81-2.81c.8-.78.8-2.07 0-2.86zM5.41 20L4 18.59l7.72-7.72 1.47 1.35L5.41 20z\"/>\n",
              "  </svg>\n",
              "      </button>\n",
              "      \n",
              "  <style>\n",
              "    .colab-df-container {\n",
              "      display:flex;\n",
              "      flex-wrap:wrap;\n",
              "      gap: 12px;\n",
              "    }\n",
              "\n",
              "    .colab-df-convert {\n",
              "      background-color: #E8F0FE;\n",
              "      border: none;\n",
              "      border-radius: 50%;\n",
              "      cursor: pointer;\n",
              "      display: none;\n",
              "      fill: #1967D2;\n",
              "      height: 32px;\n",
              "      padding: 0 0 0 0;\n",
              "      width: 32px;\n",
              "    }\n",
              "\n",
              "    .colab-df-convert:hover {\n",
              "      background-color: #E2EBFA;\n",
              "      box-shadow: 0px 1px 2px rgba(60, 64, 67, 0.3), 0px 1px 3px 1px rgba(60, 64, 67, 0.15);\n",
              "      fill: #174EA6;\n",
              "    }\n",
              "\n",
              "    [theme=dark] .colab-df-convert {\n",
              "      background-color: #3B4455;\n",
              "      fill: #D2E3FC;\n",
              "    }\n",
              "\n",
              "    [theme=dark] .colab-df-convert:hover {\n",
              "      background-color: #434B5C;\n",
              "      box-shadow: 0px 1px 3px 1px rgba(0, 0, 0, 0.15);\n",
              "      filter: drop-shadow(0px 1px 2px rgba(0, 0, 0, 0.3));\n",
              "      fill: #FFFFFF;\n",
              "    }\n",
              "  </style>\n",
              "\n",
              "      <script>\n",
              "        const buttonEl =\n",
              "          document.querySelector('#df-32e1c72a-7129-47cc-856f-a6b6303cb70b button.colab-df-convert');\n",
              "        buttonEl.style.display =\n",
              "          google.colab.kernel.accessAllowed ? 'block' : 'none';\n",
              "\n",
              "        async function convertToInteractive(key) {\n",
              "          const element = document.querySelector('#df-32e1c72a-7129-47cc-856f-a6b6303cb70b');\n",
              "          const dataTable =\n",
              "            await google.colab.kernel.invokeFunction('convertToInteractive',\n",
              "                                                     [key], {});\n",
              "          if (!dataTable) return;\n",
              "\n",
              "          const docLinkHtml = 'Like what you see? Visit the ' +\n",
              "            '<a target=\"_blank\" href=https://colab.research.google.com/notebooks/data_table.ipynb>data table notebook</a>'\n",
              "            + ' to learn more about interactive tables.';\n",
              "          element.innerHTML = '';\n",
              "          dataTable['output_type'] = 'display_data';\n",
              "          await google.colab.output.renderOutput(dataTable, element);\n",
              "          const docLink = document.createElement('div');\n",
              "          docLink.innerHTML = docLinkHtml;\n",
              "          element.appendChild(docLink);\n",
              "        }\n",
              "      </script>\n",
              "    </div>\n",
              "  </div>\n",
              "  "
            ]
          },
          "metadata": {},
          "execution_count": 2
        }
      ]
    },
    {
      "cell_type": "code",
      "source": [
        "Test=pd.read_csv(\"/content/testKNN.txt\",header=None,names=[\"id\",\"RI\",\"Na\",\"Mg\",\"AI\",\"Si\",\"K\",\"Ca\",\"Ba\",\"Fe\",\"Type of Glass\"])\n",
        "Test.head()"
      ],
      "metadata": {
        "colab": {
          "base_uri": "https://localhost:8080/",
          "height": 206
        },
        "id": "vEJN4K6BieQI",
        "outputId": "87bfcab7-4ae7-469f-f4a9-e83860e032ca"
      },
      "execution_count": null,
      "outputs": [
        {
          "output_type": "execute_result",
          "data": {
            "text/plain": [
              "    id       RI     Na    Mg    AI     Si     K     Ca   Ba    Fe  \\\n",
              "0   68  1.52152  13.05  3.65  0.87  72.32  0.19   9.85  0.0  0.17   \n",
              "1   69  1.52152  13.12  3.58  0.90  72.20  0.23   9.82  0.0  0.16   \n",
              "2   70  1.52300  13.31  3.58  0.82  71.99  0.12  10.17  0.0  0.03   \n",
              "3  144  1.51709  13.00  3.47  1.79  72.72  0.66   8.18  0.0  0.00   \n",
              "4  145  1.51660  12.99  3.18  1.23  72.97  0.58   8.81  0.0  0.24   \n",
              "\n",
              "   Type of Glass  \n",
              "0              1  \n",
              "1              1  \n",
              "2              1  \n",
              "3              2  \n",
              "4              2  "
            ],
            "text/html": [
              "\n",
              "  <div id=\"df-117c08d0-0892-49ac-9925-d9b63c0884e6\">\n",
              "    <div class=\"colab-df-container\">\n",
              "      <div>\n",
              "<style scoped>\n",
              "    .dataframe tbody tr th:only-of-type {\n",
              "        vertical-align: middle;\n",
              "    }\n",
              "\n",
              "    .dataframe tbody tr th {\n",
              "        vertical-align: top;\n",
              "    }\n",
              "\n",
              "    .dataframe thead th {\n",
              "        text-align: right;\n",
              "    }\n",
              "</style>\n",
              "<table border=\"1\" class=\"dataframe\">\n",
              "  <thead>\n",
              "    <tr style=\"text-align: right;\">\n",
              "      <th></th>\n",
              "      <th>id</th>\n",
              "      <th>RI</th>\n",
              "      <th>Na</th>\n",
              "      <th>Mg</th>\n",
              "      <th>AI</th>\n",
              "      <th>Si</th>\n",
              "      <th>K</th>\n",
              "      <th>Ca</th>\n",
              "      <th>Ba</th>\n",
              "      <th>Fe</th>\n",
              "      <th>Type of Glass</th>\n",
              "    </tr>\n",
              "  </thead>\n",
              "  <tbody>\n",
              "    <tr>\n",
              "      <th>0</th>\n",
              "      <td>68</td>\n",
              "      <td>1.52152</td>\n",
              "      <td>13.05</td>\n",
              "      <td>3.65</td>\n",
              "      <td>0.87</td>\n",
              "      <td>72.32</td>\n",
              "      <td>0.19</td>\n",
              "      <td>9.85</td>\n",
              "      <td>0.0</td>\n",
              "      <td>0.17</td>\n",
              "      <td>1</td>\n",
              "    </tr>\n",
              "    <tr>\n",
              "      <th>1</th>\n",
              "      <td>69</td>\n",
              "      <td>1.52152</td>\n",
              "      <td>13.12</td>\n",
              "      <td>3.58</td>\n",
              "      <td>0.90</td>\n",
              "      <td>72.20</td>\n",
              "      <td>0.23</td>\n",
              "      <td>9.82</td>\n",
              "      <td>0.0</td>\n",
              "      <td>0.16</td>\n",
              "      <td>1</td>\n",
              "    </tr>\n",
              "    <tr>\n",
              "      <th>2</th>\n",
              "      <td>70</td>\n",
              "      <td>1.52300</td>\n",
              "      <td>13.31</td>\n",
              "      <td>3.58</td>\n",
              "      <td>0.82</td>\n",
              "      <td>71.99</td>\n",
              "      <td>0.12</td>\n",
              "      <td>10.17</td>\n",
              "      <td>0.0</td>\n",
              "      <td>0.03</td>\n",
              "      <td>1</td>\n",
              "    </tr>\n",
              "    <tr>\n",
              "      <th>3</th>\n",
              "      <td>144</td>\n",
              "      <td>1.51709</td>\n",
              "      <td>13.00</td>\n",
              "      <td>3.47</td>\n",
              "      <td>1.79</td>\n",
              "      <td>72.72</td>\n",
              "      <td>0.66</td>\n",
              "      <td>8.18</td>\n",
              "      <td>0.0</td>\n",
              "      <td>0.00</td>\n",
              "      <td>2</td>\n",
              "    </tr>\n",
              "    <tr>\n",
              "      <th>4</th>\n",
              "      <td>145</td>\n",
              "      <td>1.51660</td>\n",
              "      <td>12.99</td>\n",
              "      <td>3.18</td>\n",
              "      <td>1.23</td>\n",
              "      <td>72.97</td>\n",
              "      <td>0.58</td>\n",
              "      <td>8.81</td>\n",
              "      <td>0.0</td>\n",
              "      <td>0.24</td>\n",
              "      <td>2</td>\n",
              "    </tr>\n",
              "  </tbody>\n",
              "</table>\n",
              "</div>\n",
              "      <button class=\"colab-df-convert\" onclick=\"convertToInteractive('df-117c08d0-0892-49ac-9925-d9b63c0884e6')\"\n",
              "              title=\"Convert this dataframe to an interactive table.\"\n",
              "              style=\"display:none;\">\n",
              "        \n",
              "  <svg xmlns=\"http://www.w3.org/2000/svg\" height=\"24px\"viewBox=\"0 0 24 24\"\n",
              "       width=\"24px\">\n",
              "    <path d=\"M0 0h24v24H0V0z\" fill=\"none\"/>\n",
              "    <path d=\"M18.56 5.44l.94 2.06.94-2.06 2.06-.94-2.06-.94-.94-2.06-.94 2.06-2.06.94zm-11 1L8.5 8.5l.94-2.06 2.06-.94-2.06-.94L8.5 2.5l-.94 2.06-2.06.94zm10 10l.94 2.06.94-2.06 2.06-.94-2.06-.94-.94-2.06-.94 2.06-2.06.94z\"/><path d=\"M17.41 7.96l-1.37-1.37c-.4-.4-.92-.59-1.43-.59-.52 0-1.04.2-1.43.59L10.3 9.45l-7.72 7.72c-.78.78-.78 2.05 0 2.83L4 21.41c.39.39.9.59 1.41.59.51 0 1.02-.2 1.41-.59l7.78-7.78 2.81-2.81c.8-.78.8-2.07 0-2.86zM5.41 20L4 18.59l7.72-7.72 1.47 1.35L5.41 20z\"/>\n",
              "  </svg>\n",
              "      </button>\n",
              "      \n",
              "  <style>\n",
              "    .colab-df-container {\n",
              "      display:flex;\n",
              "      flex-wrap:wrap;\n",
              "      gap: 12px;\n",
              "    }\n",
              "\n",
              "    .colab-df-convert {\n",
              "      background-color: #E8F0FE;\n",
              "      border: none;\n",
              "      border-radius: 50%;\n",
              "      cursor: pointer;\n",
              "      display: none;\n",
              "      fill: #1967D2;\n",
              "      height: 32px;\n",
              "      padding: 0 0 0 0;\n",
              "      width: 32px;\n",
              "    }\n",
              "\n",
              "    .colab-df-convert:hover {\n",
              "      background-color: #E2EBFA;\n",
              "      box-shadow: 0px 1px 2px rgba(60, 64, 67, 0.3), 0px 1px 3px 1px rgba(60, 64, 67, 0.15);\n",
              "      fill: #174EA6;\n",
              "    }\n",
              "\n",
              "    [theme=dark] .colab-df-convert {\n",
              "      background-color: #3B4455;\n",
              "      fill: #D2E3FC;\n",
              "    }\n",
              "\n",
              "    [theme=dark] .colab-df-convert:hover {\n",
              "      background-color: #434B5C;\n",
              "      box-shadow: 0px 1px 3px 1px rgba(0, 0, 0, 0.15);\n",
              "      filter: drop-shadow(0px 1px 2px rgba(0, 0, 0, 0.3));\n",
              "      fill: #FFFFFF;\n",
              "    }\n",
              "  </style>\n",
              "\n",
              "      <script>\n",
              "        const buttonEl =\n",
              "          document.querySelector('#df-117c08d0-0892-49ac-9925-d9b63c0884e6 button.colab-df-convert');\n",
              "        buttonEl.style.display =\n",
              "          google.colab.kernel.accessAllowed ? 'block' : 'none';\n",
              "\n",
              "        async function convertToInteractive(key) {\n",
              "          const element = document.querySelector('#df-117c08d0-0892-49ac-9925-d9b63c0884e6');\n",
              "          const dataTable =\n",
              "            await google.colab.kernel.invokeFunction('convertToInteractive',\n",
              "                                                     [key], {});\n",
              "          if (!dataTable) return;\n",
              "\n",
              "          const docLinkHtml = 'Like what you see? Visit the ' +\n",
              "            '<a target=\"_blank\" href=https://colab.research.google.com/notebooks/data_table.ipynb>data table notebook</a>'\n",
              "            + ' to learn more about interactive tables.';\n",
              "          element.innerHTML = '';\n",
              "          dataTable['output_type'] = 'display_data';\n",
              "          await google.colab.output.renderOutput(dataTable, element);\n",
              "          const docLink = document.createElement('div');\n",
              "          docLink.innerHTML = docLinkHtml;\n",
              "          element.appendChild(docLink);\n",
              "        }\n",
              "      </script>\n",
              "    </div>\n",
              "  </div>\n",
              "  "
            ]
          },
          "metadata": {},
          "execution_count": 3
        }
      ]
    },
    {
      "cell_type": "code",
      "source": [
        "print(Train.shape)\n",
        "print(Test.shape)"
      ],
      "metadata": {
        "colab": {
          "base_uri": "https://localhost:8080/"
        },
        "id": "d_N23JZMjQeW",
        "outputId": "67c4b211-8040-4792-a377-3fc77c706516"
      },
      "execution_count": null,
      "outputs": [
        {
          "output_type": "stream",
          "name": "stdout",
          "text": [
            "(196, 11)\n",
            "(18, 11)\n"
          ]
        }
      ]
    },
    {
      "cell_type": "code",
      "source": [
        "Train.isnull().sum()"
      ],
      "metadata": {
        "colab": {
          "base_uri": "https://localhost:8080/"
        },
        "id": "kXuUOFz4jnNt",
        "outputId": "73228d80-ef29-4499-a5e9-243edef85d99"
      },
      "execution_count": null,
      "outputs": [
        {
          "output_type": "execute_result",
          "data": {
            "text/plain": [
              "id               0\n",
              "RI               0\n",
              "Na               0\n",
              "Mg               0\n",
              "AI               0\n",
              "Si               0\n",
              "K                0\n",
              "Ca               0\n",
              "Ba               0\n",
              "Fe               0\n",
              "Type of Glass    0\n",
              "dtype: int64"
            ]
          },
          "metadata": {},
          "execution_count": 5
        }
      ]
    },
    {
      "cell_type": "code",
      "source": [
        "Test.isnull().sum()"
      ],
      "metadata": {
        "colab": {
          "base_uri": "https://localhost:8080/"
        },
        "id": "0-_oxKZNjsik",
        "outputId": "b986720c-1af8-48b9-dc9d-3535e288e018"
      },
      "execution_count": null,
      "outputs": [
        {
          "output_type": "execute_result",
          "data": {
            "text/plain": [
              "id               0\n",
              "RI               0\n",
              "Na               0\n",
              "Mg               0\n",
              "AI               0\n",
              "Si               0\n",
              "K                0\n",
              "Ca               0\n",
              "Ba               0\n",
              "Fe               0\n",
              "Type of Glass    0\n",
              "dtype: int64"
            ]
          },
          "metadata": {},
          "execution_count": 6
        }
      ]
    },
    {
      "cell_type": "markdown",
      "source": [
        "# EDA"
      ],
      "metadata": {
        "id": "3ZI84O06kFaD"
      }
    },
    {
      "cell_type": "code",
      "source": [
        "import plotly.express as px\n",
        "fig = px.scatter(Train,x='RI',y='Na',color='Type of Glass',trendline=\"ols\")\n",
        "fig.show()"
      ],
      "metadata": {
        "colab": {
          "base_uri": "https://localhost:8080/",
          "height": 597
        },
        "id": "Pt6JOVvEj9xP",
        "outputId": "c5f39542-19c4-441b-8146-55459259f1bf"
      },
      "execution_count": null,
      "outputs": [
        {
          "output_type": "stream",
          "name": "stderr",
          "text": [
            "/usr/local/lib/python3.7/dist-packages/statsmodels/tools/_testing.py:19: FutureWarning: pandas.util.testing is deprecated. Use the functions in the public API at pandas.testing instead.\n",
            "  import pandas.util.testing as tm\n"
          ]
        },
        {
          "output_type": "display_data",
          "data": {
            "text/html": [
              "<html>\n",
              "<head><meta charset=\"utf-8\" /></head>\n",
              "<body>\n",
              "    <div>            <script src=\"https://cdnjs.cloudflare.com/ajax/libs/mathjax/2.7.5/MathJax.js?config=TeX-AMS-MML_SVG\"></script><script type=\"text/javascript\">if (window.MathJax) {MathJax.Hub.Config({SVG: {font: \"STIX-Web\"}});}</script>                <script type=\"text/javascript\">window.PlotlyConfig = {MathJaxConfig: 'local'};</script>\n",
              "        <script src=\"https://cdn.plot.ly/plotly-2.8.3.min.js\"></script>                <div id=\"fea3beb7-d530-4071-b24e-dbd6a950fdfa\" class=\"plotly-graph-div\" style=\"height:525px; width:100%;\"></div>            <script type=\"text/javascript\">                                    window.PLOTLYENV=window.PLOTLYENV || {};                                    if (document.getElementById(\"fea3beb7-d530-4071-b24e-dbd6a950fdfa\")) {                    Plotly.newPlot(                        \"fea3beb7-d530-4071-b24e-dbd6a950fdfa\",                        [{\"hovertemplate\":\"RI=%{x}<br>Na=%{y}<br>Type of Glass=%{marker.color}<extra></extra>\",\"legendgroup\":\"\",\"marker\":{\"color\":[1,1,1,1,1,1,1,1,1,1,1,1,1,1,1,1,1,1,1,1,1,1,1,1,1,1,1,1,1,1,1,1,1,1,1,1,1,1,1,1,1,1,1,1,1,1,1,1,1,1,1,1,1,1,1,1,1,1,1,1,1,1,1,1,1,1,1,2,2,2,2,2,2,2,2,2,2,2,2,2,2,2,2,2,2,2,2,2,2,2,2,2,2,2,2,2,2,2,2,2,2,2,2,2,2,2,2,2,2,2,2,2,2,2,2,2,2,2,2,2,2,2,2,2,2,2,2,2,2,2,2,2,2,2,2,2,2,2,2,2,3,3,3,3,3,3,3,3,3,3,3,3,3,3,5,5,5,5,5,5,5,5,5,5,6,6,6,6,6,6,7,7,7,7,7,7,7,7,7,7,7,7,7,7,7,7,7,7,7,7,7,7,7,7,7,7],\"coloraxis\":\"coloraxis\",\"symbol\":\"circle\"},\"mode\":\"markers\",\"name\":\"\",\"orientation\":\"v\",\"showlegend\":false,\"x\":[1.52101,1.51761,1.51618,1.51766,1.51742,1.51596,1.51743,1.51756,1.51918,1.51755,1.51571,1.51763,1.51589,1.51748,1.51763,1.51761,1.51784,1.52196,1.51911,1.51735,1.5175,1.51966,1.51736,1.51751,1.5172,1.51764,1.51793,1.51721,1.51768,1.51784,1.51768,1.51747,1.51775,1.51753,1.51783,1.51567,1.51909,1.51797,1.52213,1.52213,1.51793,1.51755,1.51779,1.5221,1.51786,1.519,1.51869,1.52667,1.52223,1.51898,1.5232,1.51926,1.51808,1.51837,1.51778,1.51769,1.51215,1.51824,1.51754,1.51754,1.51905,1.51977,1.52172,1.52227,1.52172,1.52099,1.52152,1.51574,1.51848,1.51593,1.51631,1.51596,1.5159,1.51645,1.51627,1.51613,1.5159,1.51592,1.51593,1.51646,1.51594,1.51409,1.51625,1.51569,1.51645,1.51618,1.5164,1.51841,1.51605,1.51588,1.5159,1.51629,1.5186,1.51841,1.51743,1.51689,1.51811,1.51655,1.5173,1.5182,1.52725,1.5241,1.52475,1.53125,1.53393,1.52222,1.51818,1.52664,1.52739,1.52777,1.51892,1.51847,1.51846,1.51829,1.51708,1.51673,1.51652,1.51844,1.51663,1.51687,1.51707,1.52177,1.51872,1.51667,1.52081,1.52068,1.5202,1.52177,1.52614,1.51813,1.518,1.51811,1.51789,1.51806,1.51711,1.51674,1.51674,1.5169,1.51851,1.51662,1.51769,1.5161,1.5167,1.51643,1.51665,1.52127,1.51779,1.5161,1.51694,1.51646,1.51655,1.52121,1.51776,1.51796,1.51514,1.51915,1.52171,1.52151,1.51969,1.51666,1.51994,1.52369,1.51316,1.51321,1.51905,1.51937,1.51829,1.51852,1.51299,1.51888,1.51131,1.51838,1.52315,1.52247,1.52365,1.51613,1.51602,1.51623,1.51719,1.51683,1.51545,1.51556,1.51727,1.51531,1.51609,1.51508,1.51653,1.51514,1.51658,1.51617,1.51732,1.51645,1.51831,1.5164,1.51623,1.51685],\"xaxis\":\"x\",\"y\":[13.64,13.89,13.53,13.21,13.27,12.79,13.3,13.15,14.04,13.0,12.72,12.8,12.88,12.86,12.61,12.81,12.68,14.36,13.9,13.02,12.82,14.77,12.78,12.81,13.38,12.98,13.21,12.87,12.56,13.08,12.65,12.84,12.85,12.57,12.69,13.29,13.89,12.74,14.21,14.21,12.79,12.71,13.21,13.73,12.73,13.49,13.19,13.99,13.21,13.58,13.72,13.2,13.43,13.14,13.21,12.45,12.99,12.87,13.48,13.39,13.6,13.81,13.51,14.17,13.48,13.69,13.05,14.86,13.64,13.09,13.34,13.02,13.02,13.44,13.0,13.92,12.82,12.86,13.25,13.41,13.09,14.25,13.36,13.24,13.4,13.01,12.55,12.93,12.9,13.12,13.24,12.71,13.36,13.02,12.2,12.67,12.96,12.75,12.35,12.62,13.8,13.83,11.45,10.73,12.3,14.43,13.72,11.23,11.02,12.64,13.46,13.1,13.41,13.24,13.72,13.3,13.56,13.25,12.93,13.23,13.48,13.2,12.93,12.94,13.78,13.55,13.98,13.75,13.7,13.43,13.71,13.33,13.19,13.0,12.89,12.79,12.87,13.33,13.2,12.85,13.65,13.33,13.24,12.16,13.14,14.32,13.64,13.42,12.86,13.04,13.41,14.03,13.53,13.5,14.01,12.73,11.56,11.03,12.64,12.86,13.27,13.44,13.02,13.0,14.0,13.79,14.46,14.09,14.4,14.99,13.69,14.32,13.44,14.86,15.79,13.88,14.85,14.2,14.75,14.56,14.14,13.87,14.7,14.38,15.01,15.15,11.95,14.85,14.8,14.95,14.95,14.94,14.39,14.37,14.14,14.92],\"yaxis\":\"y\",\"type\":\"scatter\"},{\"hovertemplate\":\"<b>OLS trendline</b><br>Na = -40.64 * RI + 75.0787<br>R<sup>2</sup>=0.025141<br><br>RI=%{x}<br>Na=%{y} <b>(trend)</b><extra></extra>\",\"legendgroup\":\"\",\"marker\":{\"symbol\":\"circle\"},\"mode\":\"lines\",\"name\":\"\",\"showlegend\":false,\"x\":[1.51131,1.51215,1.51299,1.51316,1.51321,1.51409,1.51508,1.51514,1.51514,1.51531,1.51545,1.51556,1.51567,1.51569,1.51571,1.51574,1.51588,1.51589,1.5159,1.5159,1.5159,1.51592,1.51593,1.51593,1.51594,1.51596,1.51596,1.51602,1.51605,1.51609,1.5161,1.5161,1.51613,1.51613,1.51617,1.51618,1.51618,1.51623,1.51623,1.51625,1.51627,1.51629,1.51631,1.5164,1.5164,1.51643,1.51645,1.51645,1.51645,1.51646,1.51646,1.51652,1.51653,1.51655,1.51655,1.51658,1.51662,1.51663,1.51665,1.51666,1.51667,1.5167,1.51673,1.51674,1.51674,1.51683,1.51685,1.51687,1.51689,1.5169,1.51694,1.51707,1.51708,1.51711,1.51719,1.5172,1.51721,1.51727,1.5173,1.51732,1.51735,1.51736,1.51742,1.51743,1.51743,1.51747,1.51748,1.5175,1.51751,1.51753,1.51754,1.51754,1.51755,1.51755,1.51756,1.51761,1.51761,1.51763,1.51763,1.51764,1.51766,1.51768,1.51768,1.51769,1.51769,1.51775,1.51776,1.51778,1.51779,1.51779,1.51783,1.51784,1.51784,1.51786,1.51789,1.51793,1.51793,1.51796,1.51797,1.518,1.51806,1.51808,1.51811,1.51811,1.51813,1.51818,1.5182,1.51824,1.51829,1.51829,1.51831,1.51837,1.51838,1.51841,1.51841,1.51844,1.51846,1.51847,1.51848,1.51851,1.51852,1.5186,1.51869,1.51872,1.51888,1.51892,1.51898,1.519,1.51905,1.51905,1.51909,1.51911,1.51915,1.51918,1.51926,1.51937,1.51966,1.51969,1.51977,1.51994,1.5202,1.52068,1.52081,1.52099,1.52101,1.52121,1.52127,1.52151,1.52152,1.52171,1.52172,1.52172,1.52177,1.52177,1.52196,1.5221,1.52213,1.52213,1.52222,1.52223,1.52227,1.52247,1.52315,1.5232,1.52365,1.52369,1.5241,1.52475,1.52614,1.52664,1.52667,1.52725,1.52739,1.52777,1.53125,1.53393],\"xaxis\":\"x\",\"y\":[13.659078396286503,13.624940824220076,13.590803252153663,13.583894457806885,13.581862459469605,13.546099288733359,13.505865721655077,13.503427323650335,13.503427323650335,13.496518529303557,13.490828933959158,13.486358537617122,13.481888141275093,13.481075341940176,13.480262542605267,13.47904334360289,13.473353748258496,13.472947348591035,13.472540948923573,13.472540948923573,13.472540948923573,13.471728149588664,13.471321749921202,13.471321749921202,13.47091535025374,13.470102550918831,13.470102550918831,13.46766415291409,13.466444953911719,13.464819355241886,13.464412955574424,13.464412955574424,13.463193756572053,13.463193756572053,13.461568157902228,13.461161758234766,13.461161758234766,13.459129759897486,13.459129759897486,13.458316960562563,13.457504161227654,13.456691361892737,13.455878562557821,13.452220965550708,13.452220965550708,13.451001766548337,13.450188967213414,13.450188967213414,13.450188967213414,13.449782567545967,13.449782567545967,13.447344169541218,13.446937769873763,13.446124970538847,13.446124970538847,13.444905771536476,13.443280172866643,13.442873773199189,13.442060973864272,13.441654574196818,13.441248174529356,13.440028975526985,13.438809776524614,13.43840337685716,13.43840337685716,13.434745779850047,13.433932980515124,13.433120181180215,13.432307381845291,13.431900982177844,13.430275383508011,13.424992187831066,13.424585788163604,13.423366589161233,13.420115391821575,13.419708992154114,13.419302592486666,13.416864194481924,13.41564499547954,13.41483219614463,13.413612997142259,13.413206597474797,13.410768199470056,13.410361799802594,13.410361799802594,13.408736201132768,13.408329801465314,13.407517002130398,13.407110602462943,13.406297803128027,13.405891403460572,13.405891403460572,13.40548500379311,13.40548500379311,13.405078604125656,13.403046605788369,13.403046605788369,13.402233806453452,13.402233806453452,13.40182740678599,13.401014607451081,13.400201808116172,13.400201808116172,13.39979540844871,13.39979540844871,13.397357010443969,13.396950610776507,13.396137811441598,13.395731411774136,13.395731411774136,13.394105813104304,13.393699413436842,13.393699413436842,13.392886614101933,13.391667415099562,13.39004181642973,13.39004181642973,13.388822617427358,13.388416217759904,13.387197018757533,13.384758620752791,13.383945821417868,13.382726622415497,13.382726622415497,13.381913823080588,13.379881824743293,13.379069025408384,13.377443426738552,13.375411428401272,13.375411428401272,13.374598629066348,13.372160231061606,13.371753831394152,13.37053463239178,13.37053463239178,13.36931543338941,13.368502634054494,13.368096234387039,13.367689834719577,13.366470635717207,13.366064236049745,13.362813038710094,13.359155441702967,13.357936242700596,13.35143384802128,13.349808249351454,13.347369851346713,13.346557052011796,13.34452505367451,13.34452505367451,13.342899455004677,13.342086655669767,13.340461056999935,13.339241857997564,13.335990660657899,13.33152026431587,13.319734673959609,13.318515474957238,13.31526427761758,13.308355483270802,13.297789091916911,13.278281907878963,13.272998712202018,13.265683518187778,13.264870718852869,13.25674272550372,13.254304327498978,13.244550735480004,13.244144335812543,13.236422742130856,13.236016342463401,13.236016342463401,13.233984344126107,13.233984344126107,13.22626275044442,13.22057315510002,13.219353956097649,13.219353956097649,13.21569635909053,13.215289959423075,13.213664360753242,13.205536367404093,13.177901190016996,13.175869191679702,13.157581206644132,13.155955607974299,13.139293221608547,13.11287724322382,13.056387689447249,13.036067706074377,13.034848507072006,13.011277326359483,13.005587731015076,12.990144543651695,12.848717459376545,12.739802348497975],\"yaxis\":\"y\",\"type\":\"scatter\"}],                        {\"template\":{\"data\":{\"bar\":[{\"error_x\":{\"color\":\"#2a3f5f\"},\"error_y\":{\"color\":\"#2a3f5f\"},\"marker\":{\"line\":{\"color\":\"#E5ECF6\",\"width\":0.5},\"pattern\":{\"fillmode\":\"overlay\",\"size\":10,\"solidity\":0.2}},\"type\":\"bar\"}],\"barpolar\":[{\"marker\":{\"line\":{\"color\":\"#E5ECF6\",\"width\":0.5},\"pattern\":{\"fillmode\":\"overlay\",\"size\":10,\"solidity\":0.2}},\"type\":\"barpolar\"}],\"carpet\":[{\"aaxis\":{\"endlinecolor\":\"#2a3f5f\",\"gridcolor\":\"white\",\"linecolor\":\"white\",\"minorgridcolor\":\"white\",\"startlinecolor\":\"#2a3f5f\"},\"baxis\":{\"endlinecolor\":\"#2a3f5f\",\"gridcolor\":\"white\",\"linecolor\":\"white\",\"minorgridcolor\":\"white\",\"startlinecolor\":\"#2a3f5f\"},\"type\":\"carpet\"}],\"choropleth\":[{\"colorbar\":{\"outlinewidth\":0,\"ticks\":\"\"},\"type\":\"choropleth\"}],\"contour\":[{\"colorbar\":{\"outlinewidth\":0,\"ticks\":\"\"},\"colorscale\":[[0.0,\"#0d0887\"],[0.1111111111111111,\"#46039f\"],[0.2222222222222222,\"#7201a8\"],[0.3333333333333333,\"#9c179e\"],[0.4444444444444444,\"#bd3786\"],[0.5555555555555556,\"#d8576b\"],[0.6666666666666666,\"#ed7953\"],[0.7777777777777778,\"#fb9f3a\"],[0.8888888888888888,\"#fdca26\"],[1.0,\"#f0f921\"]],\"type\":\"contour\"}],\"contourcarpet\":[{\"colorbar\":{\"outlinewidth\":0,\"ticks\":\"\"},\"type\":\"contourcarpet\"}],\"heatmap\":[{\"colorbar\":{\"outlinewidth\":0,\"ticks\":\"\"},\"colorscale\":[[0.0,\"#0d0887\"],[0.1111111111111111,\"#46039f\"],[0.2222222222222222,\"#7201a8\"],[0.3333333333333333,\"#9c179e\"],[0.4444444444444444,\"#bd3786\"],[0.5555555555555556,\"#d8576b\"],[0.6666666666666666,\"#ed7953\"],[0.7777777777777778,\"#fb9f3a\"],[0.8888888888888888,\"#fdca26\"],[1.0,\"#f0f921\"]],\"type\":\"heatmap\"}],\"heatmapgl\":[{\"colorbar\":{\"outlinewidth\":0,\"ticks\":\"\"},\"colorscale\":[[0.0,\"#0d0887\"],[0.1111111111111111,\"#46039f\"],[0.2222222222222222,\"#7201a8\"],[0.3333333333333333,\"#9c179e\"],[0.4444444444444444,\"#bd3786\"],[0.5555555555555556,\"#d8576b\"],[0.6666666666666666,\"#ed7953\"],[0.7777777777777778,\"#fb9f3a\"],[0.8888888888888888,\"#fdca26\"],[1.0,\"#f0f921\"]],\"type\":\"heatmapgl\"}],\"histogram\":[{\"marker\":{\"pattern\":{\"fillmode\":\"overlay\",\"size\":10,\"solidity\":0.2}},\"type\":\"histogram\"}],\"histogram2d\":[{\"colorbar\":{\"outlinewidth\":0,\"ticks\":\"\"},\"colorscale\":[[0.0,\"#0d0887\"],[0.1111111111111111,\"#46039f\"],[0.2222222222222222,\"#7201a8\"],[0.3333333333333333,\"#9c179e\"],[0.4444444444444444,\"#bd3786\"],[0.5555555555555556,\"#d8576b\"],[0.6666666666666666,\"#ed7953\"],[0.7777777777777778,\"#fb9f3a\"],[0.8888888888888888,\"#fdca26\"],[1.0,\"#f0f921\"]],\"type\":\"histogram2d\"}],\"histogram2dcontour\":[{\"colorbar\":{\"outlinewidth\":0,\"ticks\":\"\"},\"colorscale\":[[0.0,\"#0d0887\"],[0.1111111111111111,\"#46039f\"],[0.2222222222222222,\"#7201a8\"],[0.3333333333333333,\"#9c179e\"],[0.4444444444444444,\"#bd3786\"],[0.5555555555555556,\"#d8576b\"],[0.6666666666666666,\"#ed7953\"],[0.7777777777777778,\"#fb9f3a\"],[0.8888888888888888,\"#fdca26\"],[1.0,\"#f0f921\"]],\"type\":\"histogram2dcontour\"}],\"mesh3d\":[{\"colorbar\":{\"outlinewidth\":0,\"ticks\":\"\"},\"type\":\"mesh3d\"}],\"parcoords\":[{\"line\":{\"colorbar\":{\"outlinewidth\":0,\"ticks\":\"\"}},\"type\":\"parcoords\"}],\"pie\":[{\"automargin\":true,\"type\":\"pie\"}],\"scatter\":[{\"marker\":{\"colorbar\":{\"outlinewidth\":0,\"ticks\":\"\"}},\"type\":\"scatter\"}],\"scatter3d\":[{\"line\":{\"colorbar\":{\"outlinewidth\":0,\"ticks\":\"\"}},\"marker\":{\"colorbar\":{\"outlinewidth\":0,\"ticks\":\"\"}},\"type\":\"scatter3d\"}],\"scattercarpet\":[{\"marker\":{\"colorbar\":{\"outlinewidth\":0,\"ticks\":\"\"}},\"type\":\"scattercarpet\"}],\"scattergeo\":[{\"marker\":{\"colorbar\":{\"outlinewidth\":0,\"ticks\":\"\"}},\"type\":\"scattergeo\"}],\"scattergl\":[{\"marker\":{\"colorbar\":{\"outlinewidth\":0,\"ticks\":\"\"}},\"type\":\"scattergl\"}],\"scattermapbox\":[{\"marker\":{\"colorbar\":{\"outlinewidth\":0,\"ticks\":\"\"}},\"type\":\"scattermapbox\"}],\"scatterpolar\":[{\"marker\":{\"colorbar\":{\"outlinewidth\":0,\"ticks\":\"\"}},\"type\":\"scatterpolar\"}],\"scatterpolargl\":[{\"marker\":{\"colorbar\":{\"outlinewidth\":0,\"ticks\":\"\"}},\"type\":\"scatterpolargl\"}],\"scatterternary\":[{\"marker\":{\"colorbar\":{\"outlinewidth\":0,\"ticks\":\"\"}},\"type\":\"scatterternary\"}],\"surface\":[{\"colorbar\":{\"outlinewidth\":0,\"ticks\":\"\"},\"colorscale\":[[0.0,\"#0d0887\"],[0.1111111111111111,\"#46039f\"],[0.2222222222222222,\"#7201a8\"],[0.3333333333333333,\"#9c179e\"],[0.4444444444444444,\"#bd3786\"],[0.5555555555555556,\"#d8576b\"],[0.6666666666666666,\"#ed7953\"],[0.7777777777777778,\"#fb9f3a\"],[0.8888888888888888,\"#fdca26\"],[1.0,\"#f0f921\"]],\"type\":\"surface\"}],\"table\":[{\"cells\":{\"fill\":{\"color\":\"#EBF0F8\"},\"line\":{\"color\":\"white\"}},\"header\":{\"fill\":{\"color\":\"#C8D4E3\"},\"line\":{\"color\":\"white\"}},\"type\":\"table\"}]},\"layout\":{\"annotationdefaults\":{\"arrowcolor\":\"#2a3f5f\",\"arrowhead\":0,\"arrowwidth\":1},\"autotypenumbers\":\"strict\",\"coloraxis\":{\"colorbar\":{\"outlinewidth\":0,\"ticks\":\"\"}},\"colorscale\":{\"diverging\":[[0,\"#8e0152\"],[0.1,\"#c51b7d\"],[0.2,\"#de77ae\"],[0.3,\"#f1b6da\"],[0.4,\"#fde0ef\"],[0.5,\"#f7f7f7\"],[0.6,\"#e6f5d0\"],[0.7,\"#b8e186\"],[0.8,\"#7fbc41\"],[0.9,\"#4d9221\"],[1,\"#276419\"]],\"sequential\":[[0.0,\"#0d0887\"],[0.1111111111111111,\"#46039f\"],[0.2222222222222222,\"#7201a8\"],[0.3333333333333333,\"#9c179e\"],[0.4444444444444444,\"#bd3786\"],[0.5555555555555556,\"#d8576b\"],[0.6666666666666666,\"#ed7953\"],[0.7777777777777778,\"#fb9f3a\"],[0.8888888888888888,\"#fdca26\"],[1.0,\"#f0f921\"]],\"sequentialminus\":[[0.0,\"#0d0887\"],[0.1111111111111111,\"#46039f\"],[0.2222222222222222,\"#7201a8\"],[0.3333333333333333,\"#9c179e\"],[0.4444444444444444,\"#bd3786\"],[0.5555555555555556,\"#d8576b\"],[0.6666666666666666,\"#ed7953\"],[0.7777777777777778,\"#fb9f3a\"],[0.8888888888888888,\"#fdca26\"],[1.0,\"#f0f921\"]]},\"colorway\":[\"#636efa\",\"#EF553B\",\"#00cc96\",\"#ab63fa\",\"#FFA15A\",\"#19d3f3\",\"#FF6692\",\"#B6E880\",\"#FF97FF\",\"#FECB52\"],\"font\":{\"color\":\"#2a3f5f\"},\"geo\":{\"bgcolor\":\"white\",\"lakecolor\":\"white\",\"landcolor\":\"#E5ECF6\",\"showlakes\":true,\"showland\":true,\"subunitcolor\":\"white\"},\"hoverlabel\":{\"align\":\"left\"},\"hovermode\":\"closest\",\"mapbox\":{\"style\":\"light\"},\"paper_bgcolor\":\"white\",\"plot_bgcolor\":\"#E5ECF6\",\"polar\":{\"angularaxis\":{\"gridcolor\":\"white\",\"linecolor\":\"white\",\"ticks\":\"\"},\"bgcolor\":\"#E5ECF6\",\"radialaxis\":{\"gridcolor\":\"white\",\"linecolor\":\"white\",\"ticks\":\"\"}},\"scene\":{\"xaxis\":{\"backgroundcolor\":\"#E5ECF6\",\"gridcolor\":\"white\",\"gridwidth\":2,\"linecolor\":\"white\",\"showbackground\":true,\"ticks\":\"\",\"zerolinecolor\":\"white\"},\"yaxis\":{\"backgroundcolor\":\"#E5ECF6\",\"gridcolor\":\"white\",\"gridwidth\":2,\"linecolor\":\"white\",\"showbackground\":true,\"ticks\":\"\",\"zerolinecolor\":\"white\"},\"zaxis\":{\"backgroundcolor\":\"#E5ECF6\",\"gridcolor\":\"white\",\"gridwidth\":2,\"linecolor\":\"white\",\"showbackground\":true,\"ticks\":\"\",\"zerolinecolor\":\"white\"}},\"shapedefaults\":{\"line\":{\"color\":\"#2a3f5f\"}},\"ternary\":{\"aaxis\":{\"gridcolor\":\"white\",\"linecolor\":\"white\",\"ticks\":\"\"},\"baxis\":{\"gridcolor\":\"white\",\"linecolor\":\"white\",\"ticks\":\"\"},\"bgcolor\":\"#E5ECF6\",\"caxis\":{\"gridcolor\":\"white\",\"linecolor\":\"white\",\"ticks\":\"\"}},\"title\":{\"x\":0.05},\"xaxis\":{\"automargin\":true,\"gridcolor\":\"white\",\"linecolor\":\"white\",\"ticks\":\"\",\"title\":{\"standoff\":15},\"zerolinecolor\":\"white\",\"zerolinewidth\":2},\"yaxis\":{\"automargin\":true,\"gridcolor\":\"white\",\"linecolor\":\"white\",\"ticks\":\"\",\"title\":{\"standoff\":15},\"zerolinecolor\":\"white\",\"zerolinewidth\":2}}},\"xaxis\":{\"anchor\":\"y\",\"domain\":[0.0,1.0],\"title\":{\"text\":\"RI\"}},\"yaxis\":{\"anchor\":\"x\",\"domain\":[0.0,1.0],\"title\":{\"text\":\"Na\"}},\"coloraxis\":{\"colorbar\":{\"title\":{\"text\":\"Type of Glass\"}},\"colorscale\":[[0.0,\"#0d0887\"],[0.1111111111111111,\"#46039f\"],[0.2222222222222222,\"#7201a8\"],[0.3333333333333333,\"#9c179e\"],[0.4444444444444444,\"#bd3786\"],[0.5555555555555556,\"#d8576b\"],[0.6666666666666666,\"#ed7953\"],[0.7777777777777778,\"#fb9f3a\"],[0.8888888888888888,\"#fdca26\"],[1.0,\"#f0f921\"]]},\"legend\":{\"tracegroupgap\":0},\"margin\":{\"t\":60}},                        {\"responsive\": true}                    ).then(function(){\n",
              "                            \n",
              "var gd = document.getElementById('fea3beb7-d530-4071-b24e-dbd6a950fdfa');\n",
              "var x = new MutationObserver(function (mutations, observer) {{\n",
              "        var display = window.getComputedStyle(gd).display;\n",
              "        if (!display || display === 'none') {{\n",
              "            console.log([gd, 'removed!']);\n",
              "            Plotly.purge(gd);\n",
              "            observer.disconnect();\n",
              "        }}\n",
              "}});\n",
              "\n",
              "// Listen for the removal of the full notebook cells\n",
              "var notebookContainer = gd.closest('#notebook-container');\n",
              "if (notebookContainer) {{\n",
              "    x.observe(notebookContainer, {childList: true});\n",
              "}}\n",
              "\n",
              "// Listen for the clearing of the current output cell\n",
              "var outputEl = gd.closest('.output');\n",
              "if (outputEl) {{\n",
              "    x.observe(outputEl, {childList: true});\n",
              "}}\n",
              "\n",
              "                        })                };                            </script>        </div>\n",
              "</body>\n",
              "</html>"
            ]
          },
          "metadata": {}
        }
      ]
    },
    {
      "cell_type": "code",
      "source": [
        "import plotly.express as px\n",
        "fig = px.scatter(Train,x='Mg',y='AI',color='Type of Glass',trendline=\"ols\")\n",
        "fig.show()"
      ],
      "metadata": {
        "colab": {
          "base_uri": "https://localhost:8080/",
          "height": 542
        },
        "id": "Bnlc4Dj4rwRF",
        "outputId": "67aeac01-e0d4-49a7-bcdc-a651429508cb"
      },
      "execution_count": null,
      "outputs": [
        {
          "output_type": "display_data",
          "data": {
            "text/html": [
              "<html>\n",
              "<head><meta charset=\"utf-8\" /></head>\n",
              "<body>\n",
              "    <div>            <script src=\"https://cdnjs.cloudflare.com/ajax/libs/mathjax/2.7.5/MathJax.js?config=TeX-AMS-MML_SVG\"></script><script type=\"text/javascript\">if (window.MathJax) {MathJax.Hub.Config({SVG: {font: \"STIX-Web\"}});}</script>                <script type=\"text/javascript\">window.PlotlyConfig = {MathJaxConfig: 'local'};</script>\n",
              "        <script src=\"https://cdn.plot.ly/plotly-2.8.3.min.js\"></script>                <div id=\"60d500c9-01a0-444d-9e03-04510d394175\" class=\"plotly-graph-div\" style=\"height:525px; width:100%;\"></div>            <script type=\"text/javascript\">                                    window.PLOTLYENV=window.PLOTLYENV || {};                                    if (document.getElementById(\"60d500c9-01a0-444d-9e03-04510d394175\")) {                    Plotly.newPlot(                        \"60d500c9-01a0-444d-9e03-04510d394175\",                        [{\"hovertemplate\":\"Mg=%{x}<br>AI=%{y}<br>Type of Glass=%{marker.color}<extra></extra>\",\"legendgroup\":\"\",\"marker\":{\"color\":[1,1,1,1,1,1,1,1,1,1,1,1,1,1,1,1,1,1,1,1,1,1,1,1,1,1,1,1,1,1,1,1,1,1,1,1,1,1,1,1,1,1,1,1,1,1,1,1,1,1,1,1,1,1,1,1,1,1,1,1,1,1,1,1,1,1,1,2,2,2,2,2,2,2,2,2,2,2,2,2,2,2,2,2,2,2,2,2,2,2,2,2,2,2,2,2,2,2,2,2,2,2,2,2,2,2,2,2,2,2,2,2,2,2,2,2,2,2,2,2,2,2,2,2,2,2,2,2,2,2,2,2,2,2,2,2,2,2,2,2,3,3,3,3,3,3,3,3,3,3,3,3,3,3,5,5,5,5,5,5,5,5,5,5,6,6,6,6,6,6,7,7,7,7,7,7,7,7,7,7,7,7,7,7,7,7,7,7,7,7,7,7,7,7,7,7],\"coloraxis\":\"coloraxis\",\"symbol\":\"circle\"},\"mode\":\"markers\",\"name\":\"\",\"orientation\":\"v\",\"showlegend\":false,\"x\":[4.49,3.6,3.55,3.69,3.62,3.61,3.6,3.61,3.58,3.6,3.46,3.66,3.43,3.56,3.59,3.54,3.67,3.85,3.73,3.54,3.55,3.75,3.62,3.57,3.5,3.54,3.48,3.48,3.52,3.49,3.56,3.5,3.48,3.47,3.54,3.45,3.53,3.48,3.82,3.82,3.5,3.42,3.39,3.84,3.43,3.48,3.37,3.7,3.77,3.35,3.72,3.33,2.87,2.84,2.81,2.71,3.47,3.48,3.74,3.66,3.62,3.58,3.86,3.81,3.74,3.59,3.65,3.67,3.87,3.59,3.57,3.56,3.58,3.61,3.58,3.52,3.52,3.52,3.45,3.55,3.52,3.09,3.58,3.49,3.49,3.5,3.48,3.74,3.44,3.41,3.34,3.33,3.43,3.62,3.25,2.88,2.96,2.85,2.72,2.76,3.15,2.9,0.0,0.0,0.0,0.0,0.0,0.0,0.0,0.0,3.83,3.97,3.89,3.9,3.68,3.64,3.57,3.76,3.54,3.54,3.48,3.68,3.66,3.61,2.28,2.09,1.35,1.01,0.0,3.98,3.93,3.85,3.9,3.8,3.62,3.52,3.56,3.54,3.63,3.51,3.66,3.53,3.57,3.52,3.45,3.9,3.65,3.4,3.58,3.4,3.39,3.76,3.41,3.36,2.68,1.85,1.88,1.71,0.0,0.0,0.0,0.0,0.0,0.0,2.39,2.41,2.24,2.19,1.74,0.78,3.2,3.26,3.34,2.2,1.83,1.78,0.0,0.0,0.0,0.0,0.0,0.0,0.0,0.0,0.0,0.0,0.0,0.0,0.0,0.0,0.0,0.0,0.0,0.0,0.0,0.0],\"xaxis\":\"x\",\"y\":[1.1,1.36,1.54,1.29,1.24,1.62,1.14,1.05,1.37,1.36,1.56,1.27,1.4,1.27,1.31,1.23,1.16,0.89,1.18,1.69,1.49,0.29,1.29,1.35,1.15,1.21,1.41,1.33,1.43,1.28,1.3,1.14,1.23,1.38,1.34,1.21,1.32,1.35,0.47,0.47,1.12,1.2,1.33,0.72,1.19,1.35,1.18,0.71,0.79,1.23,0.51,1.28,1.19,1.28,1.29,1.29,1.12,1.29,1.17,1.19,1.11,1.32,0.88,0.78,0.9,1.12,0.87,1.74,1.27,1.52,1.57,1.54,1.51,1.54,1.54,1.25,1.9,2.12,1.43,1.25,1.55,2.08,1.49,1.47,1.52,1.48,1.87,1.11,1.45,1.58,1.47,1.49,1.43,1.06,1.16,1.71,1.43,1.44,1.63,0.83,0.66,1.17,1.88,2.1,1.0,1.0,0.56,0.77,0.75,0.67,1.26,1.19,1.33,1.41,1.81,1.53,1.47,1.32,1.62,1.48,1.71,1.15,1.56,1.26,1.43,1.67,1.63,1.36,1.36,1.18,1.54,1.25,1.3,1.08,1.57,1.54,1.64,1.61,1.07,1.44,1.11,1.34,1.38,1.35,1.76,0.83,0.65,1.22,1.31,1.26,1.28,0.58,1.52,1.63,3.5,1.86,1.56,1.56,1.65,1.83,1.76,1.58,3.04,3.02,1.56,1.19,1.62,1.66,1.54,1.74,1.81,2.22,1.23,2.06,1.31,1.79,2.38,2.79,2.0,1.98,2.68,2.54,2.34,2.66,2.51,2.25,1.19,2.42,1.99,2.27,1.8,1.87,1.82,2.74,2.88,1.99],\"yaxis\":\"y\",\"type\":\"scatter\"},{\"hovertemplate\":\"<b>OLS trendline</b><br>AI = -0.183779 * Mg + 1.96138<br>R<sup>2</sup>=0.270951<br><br>Mg=%{x}<br>AI=%{y} <b>(trend)</b><extra></extra>\",\"legendgroup\":\"\",\"marker\":{\"symbol\":\"circle\"},\"mode\":\"lines\",\"name\":\"\",\"showlegend\":false,\"x\":[0.0,0.0,0.0,0.0,0.0,0.0,0.0,0.0,0.0,0.0,0.0,0.0,0.0,0.0,0.0,0.0,0.0,0.0,0.0,0.0,0.0,0.0,0.0,0.0,0.0,0.0,0.0,0.0,0.0,0.0,0.0,0.0,0.0,0.0,0.0,0.78,1.01,1.35,1.71,1.74,1.78,1.83,1.85,1.88,2.09,2.19,2.2,2.24,2.28,2.39,2.41,2.68,2.71,2.72,2.76,2.81,2.84,2.85,2.87,2.88,2.9,2.96,3.09,3.15,3.2,3.25,3.26,3.33,3.33,3.34,3.34,3.35,3.36,3.37,3.39,3.39,3.4,3.4,3.41,3.41,3.42,3.43,3.43,3.43,3.44,3.45,3.45,3.45,3.46,3.47,3.47,3.48,3.48,3.48,3.48,3.48,3.48,3.48,3.48,3.49,3.49,3.49,3.5,3.5,3.5,3.5,3.51,3.52,3.52,3.52,3.52,3.52,3.52,3.52,3.53,3.53,3.54,3.54,3.54,3.54,3.54,3.54,3.54,3.55,3.55,3.55,3.56,3.56,3.56,3.56,3.57,3.57,3.57,3.57,3.58,3.58,3.58,3.58,3.58,3.58,3.59,3.59,3.59,3.6,3.6,3.6,3.61,3.61,3.61,3.61,3.62,3.62,3.62,3.62,3.62,3.63,3.64,3.65,3.65,3.66,3.66,3.66,3.66,3.67,3.67,3.68,3.68,3.69,3.7,3.72,3.73,3.74,3.74,3.74,3.75,3.76,3.76,3.77,3.8,3.81,3.82,3.82,3.83,3.84,3.85,3.85,3.86,3.87,3.89,3.9,3.9,3.9,3.93,3.97,3.98,4.49],\"xaxis\":\"x\",\"y\":[1.9613793350047066,1.9613793350047066,1.9613793350047066,1.9613793350047066,1.9613793350047066,1.9613793350047066,1.9613793350047066,1.9613793350047066,1.9613793350047066,1.9613793350047066,1.9613793350047066,1.9613793350047066,1.9613793350047066,1.9613793350047066,1.9613793350047066,1.9613793350047066,1.9613793350047066,1.9613793350047066,1.9613793350047066,1.9613793350047066,1.9613793350047066,1.9613793350047066,1.9613793350047066,1.9613793350047066,1.9613793350047066,1.9613793350047066,1.9613793350047066,1.9613793350047066,1.9613793350047066,1.9613793350047066,1.9613793350047066,1.9613793350047066,1.9613793350047066,1.9613793350047066,1.9613793350047066,1.8180316895880346,1.7757625120933749,1.7132776410143127,1.647117189283541,1.6416038183059767,1.6342526570025577,1.6250637053732837,1.6213881247215742,1.61587475374401,1.5772811569010599,1.558903253642512,1.5570654633166572,1.5497143020132382,1.5423631407098193,1.5221474471254166,1.5184718664737071,1.4688515276756284,1.463338156698064,1.4615003663722093,1.4541492050687903,1.4449602534395165,1.4394468824619522,1.4376090921360973,1.4339335114843879,1.432095721158533,1.4284201405068235,1.4173933985516949,1.393502124315583,1.3824753823604543,1.3732864307311803,1.3640974791019065,1.3622596887760516,1.3493951564950684,1.3493951564950684,1.3475573661692137,1.3475573661692137,1.3457195758433587,1.343881785517504,1.3420439951916494,1.3383684145399397,1.3383684145399397,1.336530624214085,1.336530624214085,1.3346928338882302,1.3346928338882302,1.3328550435623754,1.3310172532365208,1.3310172532365208,1.3310172532365208,1.329179462910666,1.327341672584811,1.327341672584811,1.327341672584811,1.3255038822589564,1.3236660919331016,1.3236660919331016,1.3218283016072467,1.3218283016072467,1.3218283016072467,1.3218283016072467,1.3218283016072467,1.3218283016072467,1.3218283016072467,1.3218283016072467,1.319990511281392,1.319990511281392,1.319990511281392,1.3181527209555373,1.3181527209555373,1.3181527209555373,1.3181527209555373,1.3163149306296824,1.3144771403038278,1.3144771403038278,1.3144771403038278,1.3144771403038278,1.3144771403038278,1.3144771403038278,1.3144771403038278,1.3126393499779732,1.3126393499779732,1.310801559652118,1.310801559652118,1.310801559652118,1.310801559652118,1.310801559652118,1.310801559652118,1.310801559652118,1.3089637693262635,1.3089637693262635,1.3089637693262635,1.3071259790004086,1.3071259790004086,1.3071259790004086,1.3071259790004086,1.305288188674554,1.305288188674554,1.305288188674554,1.305288188674554,1.3034503983486991,1.3034503983486991,1.3034503983486991,1.3034503983486991,1.3034503983486991,1.3034503983486991,1.3016126080228445,1.3016126080228445,1.3016126080228445,1.2997748176969894,1.2997748176969894,1.2997748176969894,1.2979370273711348,1.2979370273711348,1.2979370273711348,1.2979370273711348,1.2960992370452802,1.2960992370452802,1.2960992370452802,1.2960992370452802,1.2960992370452802,1.2942614467194253,1.2924236563935705,1.2905858660677159,1.2905858660677159,1.2887480757418608,1.2887480757418608,1.2887480757418608,1.2887480757418608,1.2869102854160062,1.2869102854160062,1.2850724950901515,1.2850724950901515,1.2832347047642967,1.2813969144384418,1.2777213337867324,1.2758835434608775,1.2740457531350229,1.2740457531350229,1.2740457531350229,1.272207962809168,1.2703701724833132,1.2703701724833132,1.2685323821574586,1.2630190111798942,1.2611812208540394,1.2593434305281845,1.2593434305281845,1.25750564020233,1.2556678498764753,1.2538300595506202,1.2538300595506202,1.2519922692247656,1.250154478898911,1.2464788982472013,1.2446411079213466,1.2446411079213466,1.2446411079213466,1.2391277369437823,1.2317765756403631,1.2299387853145083,1.1362114786959152],\"yaxis\":\"y\",\"type\":\"scatter\"}],                        {\"template\":{\"data\":{\"bar\":[{\"error_x\":{\"color\":\"#2a3f5f\"},\"error_y\":{\"color\":\"#2a3f5f\"},\"marker\":{\"line\":{\"color\":\"#E5ECF6\",\"width\":0.5},\"pattern\":{\"fillmode\":\"overlay\",\"size\":10,\"solidity\":0.2}},\"type\":\"bar\"}],\"barpolar\":[{\"marker\":{\"line\":{\"color\":\"#E5ECF6\",\"width\":0.5},\"pattern\":{\"fillmode\":\"overlay\",\"size\":10,\"solidity\":0.2}},\"type\":\"barpolar\"}],\"carpet\":[{\"aaxis\":{\"endlinecolor\":\"#2a3f5f\",\"gridcolor\":\"white\",\"linecolor\":\"white\",\"minorgridcolor\":\"white\",\"startlinecolor\":\"#2a3f5f\"},\"baxis\":{\"endlinecolor\":\"#2a3f5f\",\"gridcolor\":\"white\",\"linecolor\":\"white\",\"minorgridcolor\":\"white\",\"startlinecolor\":\"#2a3f5f\"},\"type\":\"carpet\"}],\"choropleth\":[{\"colorbar\":{\"outlinewidth\":0,\"ticks\":\"\"},\"type\":\"choropleth\"}],\"contour\":[{\"colorbar\":{\"outlinewidth\":0,\"ticks\":\"\"},\"colorscale\":[[0.0,\"#0d0887\"],[0.1111111111111111,\"#46039f\"],[0.2222222222222222,\"#7201a8\"],[0.3333333333333333,\"#9c179e\"],[0.4444444444444444,\"#bd3786\"],[0.5555555555555556,\"#d8576b\"],[0.6666666666666666,\"#ed7953\"],[0.7777777777777778,\"#fb9f3a\"],[0.8888888888888888,\"#fdca26\"],[1.0,\"#f0f921\"]],\"type\":\"contour\"}],\"contourcarpet\":[{\"colorbar\":{\"outlinewidth\":0,\"ticks\":\"\"},\"type\":\"contourcarpet\"}],\"heatmap\":[{\"colorbar\":{\"outlinewidth\":0,\"ticks\":\"\"},\"colorscale\":[[0.0,\"#0d0887\"],[0.1111111111111111,\"#46039f\"],[0.2222222222222222,\"#7201a8\"],[0.3333333333333333,\"#9c179e\"],[0.4444444444444444,\"#bd3786\"],[0.5555555555555556,\"#d8576b\"],[0.6666666666666666,\"#ed7953\"],[0.7777777777777778,\"#fb9f3a\"],[0.8888888888888888,\"#fdca26\"],[1.0,\"#f0f921\"]],\"type\":\"heatmap\"}],\"heatmapgl\":[{\"colorbar\":{\"outlinewidth\":0,\"ticks\":\"\"},\"colorscale\":[[0.0,\"#0d0887\"],[0.1111111111111111,\"#46039f\"],[0.2222222222222222,\"#7201a8\"],[0.3333333333333333,\"#9c179e\"],[0.4444444444444444,\"#bd3786\"],[0.5555555555555556,\"#d8576b\"],[0.6666666666666666,\"#ed7953\"],[0.7777777777777778,\"#fb9f3a\"],[0.8888888888888888,\"#fdca26\"],[1.0,\"#f0f921\"]],\"type\":\"heatmapgl\"}],\"histogram\":[{\"marker\":{\"pattern\":{\"fillmode\":\"overlay\",\"size\":10,\"solidity\":0.2}},\"type\":\"histogram\"}],\"histogram2d\":[{\"colorbar\":{\"outlinewidth\":0,\"ticks\":\"\"},\"colorscale\":[[0.0,\"#0d0887\"],[0.1111111111111111,\"#46039f\"],[0.2222222222222222,\"#7201a8\"],[0.3333333333333333,\"#9c179e\"],[0.4444444444444444,\"#bd3786\"],[0.5555555555555556,\"#d8576b\"],[0.6666666666666666,\"#ed7953\"],[0.7777777777777778,\"#fb9f3a\"],[0.8888888888888888,\"#fdca26\"],[1.0,\"#f0f921\"]],\"type\":\"histogram2d\"}],\"histogram2dcontour\":[{\"colorbar\":{\"outlinewidth\":0,\"ticks\":\"\"},\"colorscale\":[[0.0,\"#0d0887\"],[0.1111111111111111,\"#46039f\"],[0.2222222222222222,\"#7201a8\"],[0.3333333333333333,\"#9c179e\"],[0.4444444444444444,\"#bd3786\"],[0.5555555555555556,\"#d8576b\"],[0.6666666666666666,\"#ed7953\"],[0.7777777777777778,\"#fb9f3a\"],[0.8888888888888888,\"#fdca26\"],[1.0,\"#f0f921\"]],\"type\":\"histogram2dcontour\"}],\"mesh3d\":[{\"colorbar\":{\"outlinewidth\":0,\"ticks\":\"\"},\"type\":\"mesh3d\"}],\"parcoords\":[{\"line\":{\"colorbar\":{\"outlinewidth\":0,\"ticks\":\"\"}},\"type\":\"parcoords\"}],\"pie\":[{\"automargin\":true,\"type\":\"pie\"}],\"scatter\":[{\"marker\":{\"colorbar\":{\"outlinewidth\":0,\"ticks\":\"\"}},\"type\":\"scatter\"}],\"scatter3d\":[{\"line\":{\"colorbar\":{\"outlinewidth\":0,\"ticks\":\"\"}},\"marker\":{\"colorbar\":{\"outlinewidth\":0,\"ticks\":\"\"}},\"type\":\"scatter3d\"}],\"scattercarpet\":[{\"marker\":{\"colorbar\":{\"outlinewidth\":0,\"ticks\":\"\"}},\"type\":\"scattercarpet\"}],\"scattergeo\":[{\"marker\":{\"colorbar\":{\"outlinewidth\":0,\"ticks\":\"\"}},\"type\":\"scattergeo\"}],\"scattergl\":[{\"marker\":{\"colorbar\":{\"outlinewidth\":0,\"ticks\":\"\"}},\"type\":\"scattergl\"}],\"scattermapbox\":[{\"marker\":{\"colorbar\":{\"outlinewidth\":0,\"ticks\":\"\"}},\"type\":\"scattermapbox\"}],\"scatterpolar\":[{\"marker\":{\"colorbar\":{\"outlinewidth\":0,\"ticks\":\"\"}},\"type\":\"scatterpolar\"}],\"scatterpolargl\":[{\"marker\":{\"colorbar\":{\"outlinewidth\":0,\"ticks\":\"\"}},\"type\":\"scatterpolargl\"}],\"scatterternary\":[{\"marker\":{\"colorbar\":{\"outlinewidth\":0,\"ticks\":\"\"}},\"type\":\"scatterternary\"}],\"surface\":[{\"colorbar\":{\"outlinewidth\":0,\"ticks\":\"\"},\"colorscale\":[[0.0,\"#0d0887\"],[0.1111111111111111,\"#46039f\"],[0.2222222222222222,\"#7201a8\"],[0.3333333333333333,\"#9c179e\"],[0.4444444444444444,\"#bd3786\"],[0.5555555555555556,\"#d8576b\"],[0.6666666666666666,\"#ed7953\"],[0.7777777777777778,\"#fb9f3a\"],[0.8888888888888888,\"#fdca26\"],[1.0,\"#f0f921\"]],\"type\":\"surface\"}],\"table\":[{\"cells\":{\"fill\":{\"color\":\"#EBF0F8\"},\"line\":{\"color\":\"white\"}},\"header\":{\"fill\":{\"color\":\"#C8D4E3\"},\"line\":{\"color\":\"white\"}},\"type\":\"table\"}]},\"layout\":{\"annotationdefaults\":{\"arrowcolor\":\"#2a3f5f\",\"arrowhead\":0,\"arrowwidth\":1},\"autotypenumbers\":\"strict\",\"coloraxis\":{\"colorbar\":{\"outlinewidth\":0,\"ticks\":\"\"}},\"colorscale\":{\"diverging\":[[0,\"#8e0152\"],[0.1,\"#c51b7d\"],[0.2,\"#de77ae\"],[0.3,\"#f1b6da\"],[0.4,\"#fde0ef\"],[0.5,\"#f7f7f7\"],[0.6,\"#e6f5d0\"],[0.7,\"#b8e186\"],[0.8,\"#7fbc41\"],[0.9,\"#4d9221\"],[1,\"#276419\"]],\"sequential\":[[0.0,\"#0d0887\"],[0.1111111111111111,\"#46039f\"],[0.2222222222222222,\"#7201a8\"],[0.3333333333333333,\"#9c179e\"],[0.4444444444444444,\"#bd3786\"],[0.5555555555555556,\"#d8576b\"],[0.6666666666666666,\"#ed7953\"],[0.7777777777777778,\"#fb9f3a\"],[0.8888888888888888,\"#fdca26\"],[1.0,\"#f0f921\"]],\"sequentialminus\":[[0.0,\"#0d0887\"],[0.1111111111111111,\"#46039f\"],[0.2222222222222222,\"#7201a8\"],[0.3333333333333333,\"#9c179e\"],[0.4444444444444444,\"#bd3786\"],[0.5555555555555556,\"#d8576b\"],[0.6666666666666666,\"#ed7953\"],[0.7777777777777778,\"#fb9f3a\"],[0.8888888888888888,\"#fdca26\"],[1.0,\"#f0f921\"]]},\"colorway\":[\"#636efa\",\"#EF553B\",\"#00cc96\",\"#ab63fa\",\"#FFA15A\",\"#19d3f3\",\"#FF6692\",\"#B6E880\",\"#FF97FF\",\"#FECB52\"],\"font\":{\"color\":\"#2a3f5f\"},\"geo\":{\"bgcolor\":\"white\",\"lakecolor\":\"white\",\"landcolor\":\"#E5ECF6\",\"showlakes\":true,\"showland\":true,\"subunitcolor\":\"white\"},\"hoverlabel\":{\"align\":\"left\"},\"hovermode\":\"closest\",\"mapbox\":{\"style\":\"light\"},\"paper_bgcolor\":\"white\",\"plot_bgcolor\":\"#E5ECF6\",\"polar\":{\"angularaxis\":{\"gridcolor\":\"white\",\"linecolor\":\"white\",\"ticks\":\"\"},\"bgcolor\":\"#E5ECF6\",\"radialaxis\":{\"gridcolor\":\"white\",\"linecolor\":\"white\",\"ticks\":\"\"}},\"scene\":{\"xaxis\":{\"backgroundcolor\":\"#E5ECF6\",\"gridcolor\":\"white\",\"gridwidth\":2,\"linecolor\":\"white\",\"showbackground\":true,\"ticks\":\"\",\"zerolinecolor\":\"white\"},\"yaxis\":{\"backgroundcolor\":\"#E5ECF6\",\"gridcolor\":\"white\",\"gridwidth\":2,\"linecolor\":\"white\",\"showbackground\":true,\"ticks\":\"\",\"zerolinecolor\":\"white\"},\"zaxis\":{\"backgroundcolor\":\"#E5ECF6\",\"gridcolor\":\"white\",\"gridwidth\":2,\"linecolor\":\"white\",\"showbackground\":true,\"ticks\":\"\",\"zerolinecolor\":\"white\"}},\"shapedefaults\":{\"line\":{\"color\":\"#2a3f5f\"}},\"ternary\":{\"aaxis\":{\"gridcolor\":\"white\",\"linecolor\":\"white\",\"ticks\":\"\"},\"baxis\":{\"gridcolor\":\"white\",\"linecolor\":\"white\",\"ticks\":\"\"},\"bgcolor\":\"#E5ECF6\",\"caxis\":{\"gridcolor\":\"white\",\"linecolor\":\"white\",\"ticks\":\"\"}},\"title\":{\"x\":0.05},\"xaxis\":{\"automargin\":true,\"gridcolor\":\"white\",\"linecolor\":\"white\",\"ticks\":\"\",\"title\":{\"standoff\":15},\"zerolinecolor\":\"white\",\"zerolinewidth\":2},\"yaxis\":{\"automargin\":true,\"gridcolor\":\"white\",\"linecolor\":\"white\",\"ticks\":\"\",\"title\":{\"standoff\":15},\"zerolinecolor\":\"white\",\"zerolinewidth\":2}}},\"xaxis\":{\"anchor\":\"y\",\"domain\":[0.0,1.0],\"title\":{\"text\":\"Mg\"}},\"yaxis\":{\"anchor\":\"x\",\"domain\":[0.0,1.0],\"title\":{\"text\":\"AI\"}},\"coloraxis\":{\"colorbar\":{\"title\":{\"text\":\"Type of Glass\"}},\"colorscale\":[[0.0,\"#0d0887\"],[0.1111111111111111,\"#46039f\"],[0.2222222222222222,\"#7201a8\"],[0.3333333333333333,\"#9c179e\"],[0.4444444444444444,\"#bd3786\"],[0.5555555555555556,\"#d8576b\"],[0.6666666666666666,\"#ed7953\"],[0.7777777777777778,\"#fb9f3a\"],[0.8888888888888888,\"#fdca26\"],[1.0,\"#f0f921\"]]},\"legend\":{\"tracegroupgap\":0},\"margin\":{\"t\":60}},                        {\"responsive\": true}                    ).then(function(){\n",
              "                            \n",
              "var gd = document.getElementById('60d500c9-01a0-444d-9e03-04510d394175');\n",
              "var x = new MutationObserver(function (mutations, observer) {{\n",
              "        var display = window.getComputedStyle(gd).display;\n",
              "        if (!display || display === 'none') {{\n",
              "            console.log([gd, 'removed!']);\n",
              "            Plotly.purge(gd);\n",
              "            observer.disconnect();\n",
              "        }}\n",
              "}});\n",
              "\n",
              "// Listen for the removal of the full notebook cells\n",
              "var notebookContainer = gd.closest('#notebook-container');\n",
              "if (notebookContainer) {{\n",
              "    x.observe(notebookContainer, {childList: true});\n",
              "}}\n",
              "\n",
              "// Listen for the clearing of the current output cell\n",
              "var outputEl = gd.closest('.output');\n",
              "if (outputEl) {{\n",
              "    x.observe(outputEl, {childList: true});\n",
              "}}\n",
              "\n",
              "                        })                };                            </script>        </div>\n",
              "</body>\n",
              "</html>"
            ]
          },
          "metadata": {}
        }
      ]
    },
    {
      "cell_type": "code",
      "source": [
        "import plotly.express as px\n",
        "fig = px.scatter(Train,x='Si',y='K',color='Type of Glass',trendline=\"ols\")\n",
        "fig.show()"
      ],
      "metadata": {
        "colab": {
          "base_uri": "https://localhost:8080/",
          "height": 542
        },
        "id": "9erB6KmSsr9i",
        "outputId": "a241fba3-d71b-4bb4-e600-b60b2534cfd1"
      },
      "execution_count": null,
      "outputs": [
        {
          "output_type": "display_data",
          "data": {
            "text/html": [
              "<html>\n",
              "<head><meta charset=\"utf-8\" /></head>\n",
              "<body>\n",
              "    <div>            <script src=\"https://cdnjs.cloudflare.com/ajax/libs/mathjax/2.7.5/MathJax.js?config=TeX-AMS-MML_SVG\"></script><script type=\"text/javascript\">if (window.MathJax) {MathJax.Hub.Config({SVG: {font: \"STIX-Web\"}});}</script>                <script type=\"text/javascript\">window.PlotlyConfig = {MathJaxConfig: 'local'};</script>\n",
              "        <script src=\"https://cdn.plot.ly/plotly-2.8.3.min.js\"></script>                <div id=\"0742ca4d-0f9d-4d13-8b75-750a3db63883\" class=\"plotly-graph-div\" style=\"height:525px; width:100%;\"></div>            <script type=\"text/javascript\">                                    window.PLOTLYENV=window.PLOTLYENV || {};                                    if (document.getElementById(\"0742ca4d-0f9d-4d13-8b75-750a3db63883\")) {                    Plotly.newPlot(                        \"0742ca4d-0f9d-4d13-8b75-750a3db63883\",                        [{\"hovertemplate\":\"Si=%{x}<br>K=%{y}<br>Type of Glass=%{marker.color}<extra></extra>\",\"legendgroup\":\"\",\"marker\":{\"color\":[1,1,1,1,1,1,1,1,1,1,1,1,1,1,1,1,1,1,1,1,1,1,1,1,1,1,1,1,1,1,1,1,1,1,1,1,1,1,1,1,1,1,1,1,1,1,1,1,1,1,1,1,1,1,1,1,1,1,1,1,1,1,1,1,1,1,1,2,2,2,2,2,2,2,2,2,2,2,2,2,2,2,2,2,2,2,2,2,2,2,2,2,2,2,2,2,2,2,2,2,2,2,2,2,2,2,2,2,2,2,2,2,2,2,2,2,2,2,2,2,2,2,2,2,2,2,2,2,2,2,2,2,2,2,2,2,2,2,2,2,3,3,3,3,3,3,3,3,3,3,3,3,3,3,5,5,5,5,5,5,5,5,5,5,6,6,6,6,6,6,7,7,7,7,7,7,7,7,7,7,7,7,7,7,7,7,7,7,7,7,7,7,7,7,7,7],\"coloraxis\":\"coloraxis\",\"symbol\":\"circle\"},\"mode\":\"markers\",\"name\":\"\",\"orientation\":\"v\",\"showlegend\":false,\"x\":[71.78,72.73,72.99,72.61,73.08,72.97,73.09,73.24,72.08,72.99,73.2,73.01,73.28,73.21,73.29,73.24,73.11,71.36,72.12,72.73,72.75,72.02,72.79,73.02,72.85,73.0,72.64,73.04,73.15,72.86,73.08,73.27,72.97,73.39,72.95,72.74,71.81,72.96,71.77,71.77,73.03,73.2,72.76,71.76,72.95,71.95,72.72,71.57,71.99,72.08,71.75,72.36,72.84,72.85,72.98,73.7,72.98,72.95,72.99,72.79,72.64,71.72,71.79,71.35,72.01,71.96,72.22,71.87,71.96,73.1,72.87,73.11,73.12,72.39,72.83,72.88,72.86,72.66,73.17,72.81,72.87,72.28,72.72,73.25,72.65,72.89,73.23,72.28,73.06,73.26,73.1,73.28,72.26,72.34,73.55,73.21,72.92,73.27,72.87,73.81,70.57,71.15,72.19,69.81,70.16,72.67,74.45,73.21,73.08,72.02,72.55,72.44,72.38,72.33,72.06,72.53,72.45,72.4,72.96,72.84,72.52,72.75,72.51,72.75,71.99,72.18,71.76,72.19,71.24,72.49,71.81,72.78,72.33,73.07,72.96,73.36,73.14,72.54,72.83,73.01,72.77,72.67,72.7,72.89,72.48,71.5,73.0,72.69,72.61,73.01,72.64,71.79,72.04,71.94,69.89,72.69,72.86,73.44,73.75,73.88,73.03,72.22,70.48,70.7,72.37,72.76,72.38,72.67,74.55,72.5,72.81,71.25,72.38,70.26,70.43,73.1,73.28,73.46,73.02,73.29,73.39,73.23,73.28,73.1,73.05,73.5,75.18,73.72,73.11,73.3,72.99,73.11,72.86,72.85,72.61,73.06],\"xaxis\":\"x\",\"y\":[0.06,0.48,0.39,0.57,0.55,0.64,0.58,0.57,0.56,0.57,0.67,0.6,0.69,0.54,0.58,0.58,0.61,0.15,0.06,0.54,0.54,0.03,0.59,0.62,0.5,0.65,0.59,0.56,0.57,0.6,0.61,0.56,0.61,0.6,0.57,0.56,0.51,0.64,0.11,0.11,0.64,0.59,0.59,0.17,0.62,0.55,0.57,0.02,0.13,0.59,0.09,0.6,0.55,0.55,0.51,0.56,0.62,0.6,0.59,0.57,0.14,0.12,0.23,0.0,0.18,0.09,0.19,0.16,0.54,0.67,0.61,0.72,0.69,0.66,0.61,0.37,0.69,0.69,0.61,0.68,0.68,1.1,0.45,0.38,0.67,0.6,0.63,0.64,0.44,0.07,0.39,0.67,0.51,0.64,0.62,0.73,0.6,0.57,0.7,0.35,0.08,0.08,0.81,0.58,0.12,0.1,0.0,0.0,0.0,0.06,0.57,0.6,0.51,0.55,0.64,0.65,0.64,0.58,0.64,0.56,0.62,0.54,0.58,0.56,0.49,0.53,0.39,0.33,0.19,0.58,0.54,0.52,0.55,0.56,0.61,0.66,0.65,0.68,0.57,0.68,0.11,0.56,0.56,0.57,0.6,0.0,0.06,0.59,0.61,0.52,0.52,0.11,0.58,0.57,1.68,0.6,0.47,0.58,0.38,0.97,0.47,0.32,6.21,6.21,0.0,0.0,0.0,0.0,0.0,0.0,1.76,1.46,0.6,0.76,0.31,0.0,0.0,0.04,0.0,0.0,0.08,0.14,0.0,0.04,0.05,0.0,2.7,0.0,0.0,0.0,0.0,0.0,1.41,0.0,0.08,0.0],\"yaxis\":\"y\",\"type\":\"scatter\"},{\"hovertemplate\":\"<b>OLS trendline</b><br>K = -0.159889 * Si + 12.133<br>R<sup>2</sup>=0.032938<br><br>Si=%{x}<br>K=%{y} <b>(trend)</b><extra></extra>\",\"legendgroup\":\"\",\"marker\":{\"symbol\":\"circle\"},\"mode\":\"lines\",\"name\":\"\",\"showlegend\":false,\"x\":[69.81,69.89,70.16,70.26,70.43,70.48,70.57,70.7,71.15,71.24,71.25,71.35,71.36,71.5,71.57,71.72,71.75,71.76,71.76,71.77,71.77,71.78,71.79,71.79,71.81,71.81,71.87,71.94,71.95,71.96,71.96,71.99,71.99,72.01,72.02,72.02,72.04,72.06,72.08,72.08,72.12,72.18,72.19,72.19,72.22,72.22,72.26,72.28,72.28,72.33,72.33,72.34,72.36,72.37,72.38,72.38,72.38,72.39,72.4,72.44,72.45,72.48,72.49,72.5,72.51,72.52,72.53,72.54,72.55,72.61,72.61,72.61,72.64,72.64,72.64,72.65,72.66,72.67,72.67,72.67,72.69,72.69,72.7,72.72,72.72,72.73,72.73,72.74,72.75,72.75,72.75,72.76,72.76,72.77,72.78,72.79,72.79,72.81,72.81,72.83,72.83,72.84,72.84,72.85,72.85,72.85,72.86,72.86,72.86,72.86,72.87,72.87,72.87,72.88,72.89,72.89,72.92,72.95,72.95,72.95,72.96,72.96,72.96,72.97,72.97,72.98,72.98,72.99,72.99,72.99,72.99,73.0,73.0,73.01,73.01,73.01,73.02,73.02,73.03,73.03,73.04,73.05,73.06,73.06,73.07,73.08,73.08,73.08,73.09,73.1,73.1,73.1,73.1,73.11,73.11,73.11,73.11,73.12,73.14,73.15,73.17,73.2,73.2,73.21,73.21,73.21,73.23,73.23,73.24,73.24,73.25,73.26,73.27,73.27,73.28,73.28,73.28,73.28,73.29,73.29,73.3,73.36,73.39,73.39,73.44,73.46,73.5,73.55,73.7,73.72,73.75,73.81,73.88,74.45,74.55,75.18],\"xaxis\":\"x\",\"y\":[0.9711384567632511,0.9583473646291036,0.9151774286763601,0.8991885635086749,0.8720074927236148,0.8640130601397722,0.8496230814888595,0.8288375567708695,0.7568876635162951,0.7424976848653824,0.7408987983486135,0.7249099331809301,0.7233110466641612,0.7009266354294041,0.6897344298120274,0.6657511320605014,0.6609544725101966,0.6593555859934277,0.6593555859934277,0.6577566994766606,0.6577566994766606,0.6561578129598917,0.6545589264431229,0.6545589264431229,0.6513611534095869,0.6513611534095869,0.6417678343089772,0.6305756286915987,0.6289767421748298,0.6273778556580627,0.6273778556580627,0.6225811961077579,0.6225811961077579,0.6193834230742201,0.617784536557453,0.617784536557453,0.6145867635239153,0.6113889904903793,0.6081912174568433,0.6081912174568433,0.6017956713897679,0.5922023522891582,0.5906034657723911,0.5906034657723911,0.5858068062220863,0.5858068062220863,0.5794112601550125,0.5762134871214766,0.5762134871214766,0.568219054537634,0.568219054537634,0.5666201680208651,0.5634223949873292,0.5618235084705603,0.5602246219537932,0.5602246219537932,0.5602246219537932,0.5586257354370243,0.5570268489202554,0.5506313028531835,0.5490324163364146,0.5442357567861098,0.5426368702693427,0.5410379837525738,0.5394390972358032,0.5378402107190379,0.5362413242022672,0.5346424376854984,0.5330435511687313,0.5234502320681216,0.5234502320681216,0.5234502320681216,0.5186535725178167,0.5186535725178167,0.5186535725178167,0.5170546860010479,0.5154557994842808,0.5138569129675119,0.5138569129675119,0.5138569129675119,0.5106591399339759,0.5106591399339759,0.5090602534172071,0.5058624803836711,0.5058624803836711,0.5042635938669005,0.5042635938669005,0.5026647073501334,0.5010658208333645,0.5010658208333645,0.5010658208333645,0.4994669343165956,0.4994669343165956,0.4978680477998285,0.49626916128305965,0.4946702747662908,0.4946702747662908,0.4914725017327548,0.4914725017327548,0.48827472869921884,0.48827472869921884,0.48667584218244997,0.48667584218244997,0.4850769556656829,0.4850769556656829,0.4850769556656829,0.483478069148914,0.483478069148914,0.483478069148914,0.483478069148914,0.48187918263214513,0.48187918263214513,0.48187918263214513,0.48028029611537804,0.47868140959860916,0.47868140959860916,0.47388475004830255,0.4690880904979977,0.4690880904979977,0.4690880904979977,0.4674892039812306,0.4674892039812306,0.4674892039812306,0.46589031746446175,0.46589031746446175,0.4642914309476929,0.4642914309476929,0.4626925444309258,0.4626925444309258,0.4626925444309258,0.4626925444309258,0.4610936579141569,0.4610936579141569,0.45949477139738804,0.45949477139738804,0.45949477139738804,0.45789588488062094,0.45789588488062094,0.45629699836385207,0.45629699836385207,0.4546981118470832,0.4530992253303161,0.45150033881354723,0.45150033881354723,0.44990145229678014,0.44830256578001126,0.44830256578001126,0.44830256578001126,0.4467036792632424,0.4451047927464753,0.4451047927464753,0.4451047927464753,0.4451047927464753,0.4435059062297064,0.4435059062297064,0.4435059062297064,0.4435059062297064,0.4419070197129358,0.4387092466793998,0.43711036016263094,0.433912587129095,0.42911592757879014,0.42911592757879014,0.42751704106202304,0.42751704106202304,0.42751704106202304,0.4243192680284853,0.4243192680284853,0.4227203815117182,0.4227203815117182,0.42112149499494933,0.41952260847818046,0.41792372196141336,0.41792372196141336,0.4163248354446445,0.4163248354446445,0.4163248354446445,0.4163248354446445,0.4147259489278756,0.4147259489278756,0.4131270624111085,0.4035337433104971,0.39873708376019223,0.39873708376019223,0.39074265117635143,0.38754487814281546,0.38114933207574175,0.3731548994918992,0.349171601740375,0.345973828706839,0.3411771691565324,0.3315838500559227,0.32039164443854595,0.22925511298275048,0.21326624781506887,0.11253639725866194],\"yaxis\":\"y\",\"type\":\"scatter\"}],                        {\"template\":{\"data\":{\"bar\":[{\"error_x\":{\"color\":\"#2a3f5f\"},\"error_y\":{\"color\":\"#2a3f5f\"},\"marker\":{\"line\":{\"color\":\"#E5ECF6\",\"width\":0.5},\"pattern\":{\"fillmode\":\"overlay\",\"size\":10,\"solidity\":0.2}},\"type\":\"bar\"}],\"barpolar\":[{\"marker\":{\"line\":{\"color\":\"#E5ECF6\",\"width\":0.5},\"pattern\":{\"fillmode\":\"overlay\",\"size\":10,\"solidity\":0.2}},\"type\":\"barpolar\"}],\"carpet\":[{\"aaxis\":{\"endlinecolor\":\"#2a3f5f\",\"gridcolor\":\"white\",\"linecolor\":\"white\",\"minorgridcolor\":\"white\",\"startlinecolor\":\"#2a3f5f\"},\"baxis\":{\"endlinecolor\":\"#2a3f5f\",\"gridcolor\":\"white\",\"linecolor\":\"white\",\"minorgridcolor\":\"white\",\"startlinecolor\":\"#2a3f5f\"},\"type\":\"carpet\"}],\"choropleth\":[{\"colorbar\":{\"outlinewidth\":0,\"ticks\":\"\"},\"type\":\"choropleth\"}],\"contour\":[{\"colorbar\":{\"outlinewidth\":0,\"ticks\":\"\"},\"colorscale\":[[0.0,\"#0d0887\"],[0.1111111111111111,\"#46039f\"],[0.2222222222222222,\"#7201a8\"],[0.3333333333333333,\"#9c179e\"],[0.4444444444444444,\"#bd3786\"],[0.5555555555555556,\"#d8576b\"],[0.6666666666666666,\"#ed7953\"],[0.7777777777777778,\"#fb9f3a\"],[0.8888888888888888,\"#fdca26\"],[1.0,\"#f0f921\"]],\"type\":\"contour\"}],\"contourcarpet\":[{\"colorbar\":{\"outlinewidth\":0,\"ticks\":\"\"},\"type\":\"contourcarpet\"}],\"heatmap\":[{\"colorbar\":{\"outlinewidth\":0,\"ticks\":\"\"},\"colorscale\":[[0.0,\"#0d0887\"],[0.1111111111111111,\"#46039f\"],[0.2222222222222222,\"#7201a8\"],[0.3333333333333333,\"#9c179e\"],[0.4444444444444444,\"#bd3786\"],[0.5555555555555556,\"#d8576b\"],[0.6666666666666666,\"#ed7953\"],[0.7777777777777778,\"#fb9f3a\"],[0.8888888888888888,\"#fdca26\"],[1.0,\"#f0f921\"]],\"type\":\"heatmap\"}],\"heatmapgl\":[{\"colorbar\":{\"outlinewidth\":0,\"ticks\":\"\"},\"colorscale\":[[0.0,\"#0d0887\"],[0.1111111111111111,\"#46039f\"],[0.2222222222222222,\"#7201a8\"],[0.3333333333333333,\"#9c179e\"],[0.4444444444444444,\"#bd3786\"],[0.5555555555555556,\"#d8576b\"],[0.6666666666666666,\"#ed7953\"],[0.7777777777777778,\"#fb9f3a\"],[0.8888888888888888,\"#fdca26\"],[1.0,\"#f0f921\"]],\"type\":\"heatmapgl\"}],\"histogram\":[{\"marker\":{\"pattern\":{\"fillmode\":\"overlay\",\"size\":10,\"solidity\":0.2}},\"type\":\"histogram\"}],\"histogram2d\":[{\"colorbar\":{\"outlinewidth\":0,\"ticks\":\"\"},\"colorscale\":[[0.0,\"#0d0887\"],[0.1111111111111111,\"#46039f\"],[0.2222222222222222,\"#7201a8\"],[0.3333333333333333,\"#9c179e\"],[0.4444444444444444,\"#bd3786\"],[0.5555555555555556,\"#d8576b\"],[0.6666666666666666,\"#ed7953\"],[0.7777777777777778,\"#fb9f3a\"],[0.8888888888888888,\"#fdca26\"],[1.0,\"#f0f921\"]],\"type\":\"histogram2d\"}],\"histogram2dcontour\":[{\"colorbar\":{\"outlinewidth\":0,\"ticks\":\"\"},\"colorscale\":[[0.0,\"#0d0887\"],[0.1111111111111111,\"#46039f\"],[0.2222222222222222,\"#7201a8\"],[0.3333333333333333,\"#9c179e\"],[0.4444444444444444,\"#bd3786\"],[0.5555555555555556,\"#d8576b\"],[0.6666666666666666,\"#ed7953\"],[0.7777777777777778,\"#fb9f3a\"],[0.8888888888888888,\"#fdca26\"],[1.0,\"#f0f921\"]],\"type\":\"histogram2dcontour\"}],\"mesh3d\":[{\"colorbar\":{\"outlinewidth\":0,\"ticks\":\"\"},\"type\":\"mesh3d\"}],\"parcoords\":[{\"line\":{\"colorbar\":{\"outlinewidth\":0,\"ticks\":\"\"}},\"type\":\"parcoords\"}],\"pie\":[{\"automargin\":true,\"type\":\"pie\"}],\"scatter\":[{\"marker\":{\"colorbar\":{\"outlinewidth\":0,\"ticks\":\"\"}},\"type\":\"scatter\"}],\"scatter3d\":[{\"line\":{\"colorbar\":{\"outlinewidth\":0,\"ticks\":\"\"}},\"marker\":{\"colorbar\":{\"outlinewidth\":0,\"ticks\":\"\"}},\"type\":\"scatter3d\"}],\"scattercarpet\":[{\"marker\":{\"colorbar\":{\"outlinewidth\":0,\"ticks\":\"\"}},\"type\":\"scattercarpet\"}],\"scattergeo\":[{\"marker\":{\"colorbar\":{\"outlinewidth\":0,\"ticks\":\"\"}},\"type\":\"scattergeo\"}],\"scattergl\":[{\"marker\":{\"colorbar\":{\"outlinewidth\":0,\"ticks\":\"\"}},\"type\":\"scattergl\"}],\"scattermapbox\":[{\"marker\":{\"colorbar\":{\"outlinewidth\":0,\"ticks\":\"\"}},\"type\":\"scattermapbox\"}],\"scatterpolar\":[{\"marker\":{\"colorbar\":{\"outlinewidth\":0,\"ticks\":\"\"}},\"type\":\"scatterpolar\"}],\"scatterpolargl\":[{\"marker\":{\"colorbar\":{\"outlinewidth\":0,\"ticks\":\"\"}},\"type\":\"scatterpolargl\"}],\"scatterternary\":[{\"marker\":{\"colorbar\":{\"outlinewidth\":0,\"ticks\":\"\"}},\"type\":\"scatterternary\"}],\"surface\":[{\"colorbar\":{\"outlinewidth\":0,\"ticks\":\"\"},\"colorscale\":[[0.0,\"#0d0887\"],[0.1111111111111111,\"#46039f\"],[0.2222222222222222,\"#7201a8\"],[0.3333333333333333,\"#9c179e\"],[0.4444444444444444,\"#bd3786\"],[0.5555555555555556,\"#d8576b\"],[0.6666666666666666,\"#ed7953\"],[0.7777777777777778,\"#fb9f3a\"],[0.8888888888888888,\"#fdca26\"],[1.0,\"#f0f921\"]],\"type\":\"surface\"}],\"table\":[{\"cells\":{\"fill\":{\"color\":\"#EBF0F8\"},\"line\":{\"color\":\"white\"}},\"header\":{\"fill\":{\"color\":\"#C8D4E3\"},\"line\":{\"color\":\"white\"}},\"type\":\"table\"}]},\"layout\":{\"annotationdefaults\":{\"arrowcolor\":\"#2a3f5f\",\"arrowhead\":0,\"arrowwidth\":1},\"autotypenumbers\":\"strict\",\"coloraxis\":{\"colorbar\":{\"outlinewidth\":0,\"ticks\":\"\"}},\"colorscale\":{\"diverging\":[[0,\"#8e0152\"],[0.1,\"#c51b7d\"],[0.2,\"#de77ae\"],[0.3,\"#f1b6da\"],[0.4,\"#fde0ef\"],[0.5,\"#f7f7f7\"],[0.6,\"#e6f5d0\"],[0.7,\"#b8e186\"],[0.8,\"#7fbc41\"],[0.9,\"#4d9221\"],[1,\"#276419\"]],\"sequential\":[[0.0,\"#0d0887\"],[0.1111111111111111,\"#46039f\"],[0.2222222222222222,\"#7201a8\"],[0.3333333333333333,\"#9c179e\"],[0.4444444444444444,\"#bd3786\"],[0.5555555555555556,\"#d8576b\"],[0.6666666666666666,\"#ed7953\"],[0.7777777777777778,\"#fb9f3a\"],[0.8888888888888888,\"#fdca26\"],[1.0,\"#f0f921\"]],\"sequentialminus\":[[0.0,\"#0d0887\"],[0.1111111111111111,\"#46039f\"],[0.2222222222222222,\"#7201a8\"],[0.3333333333333333,\"#9c179e\"],[0.4444444444444444,\"#bd3786\"],[0.5555555555555556,\"#d8576b\"],[0.6666666666666666,\"#ed7953\"],[0.7777777777777778,\"#fb9f3a\"],[0.8888888888888888,\"#fdca26\"],[1.0,\"#f0f921\"]]},\"colorway\":[\"#636efa\",\"#EF553B\",\"#00cc96\",\"#ab63fa\",\"#FFA15A\",\"#19d3f3\",\"#FF6692\",\"#B6E880\",\"#FF97FF\",\"#FECB52\"],\"font\":{\"color\":\"#2a3f5f\"},\"geo\":{\"bgcolor\":\"white\",\"lakecolor\":\"white\",\"landcolor\":\"#E5ECF6\",\"showlakes\":true,\"showland\":true,\"subunitcolor\":\"white\"},\"hoverlabel\":{\"align\":\"left\"},\"hovermode\":\"closest\",\"mapbox\":{\"style\":\"light\"},\"paper_bgcolor\":\"white\",\"plot_bgcolor\":\"#E5ECF6\",\"polar\":{\"angularaxis\":{\"gridcolor\":\"white\",\"linecolor\":\"white\",\"ticks\":\"\"},\"bgcolor\":\"#E5ECF6\",\"radialaxis\":{\"gridcolor\":\"white\",\"linecolor\":\"white\",\"ticks\":\"\"}},\"scene\":{\"xaxis\":{\"backgroundcolor\":\"#E5ECF6\",\"gridcolor\":\"white\",\"gridwidth\":2,\"linecolor\":\"white\",\"showbackground\":true,\"ticks\":\"\",\"zerolinecolor\":\"white\"},\"yaxis\":{\"backgroundcolor\":\"#E5ECF6\",\"gridcolor\":\"white\",\"gridwidth\":2,\"linecolor\":\"white\",\"showbackground\":true,\"ticks\":\"\",\"zerolinecolor\":\"white\"},\"zaxis\":{\"backgroundcolor\":\"#E5ECF6\",\"gridcolor\":\"white\",\"gridwidth\":2,\"linecolor\":\"white\",\"showbackground\":true,\"ticks\":\"\",\"zerolinecolor\":\"white\"}},\"shapedefaults\":{\"line\":{\"color\":\"#2a3f5f\"}},\"ternary\":{\"aaxis\":{\"gridcolor\":\"white\",\"linecolor\":\"white\",\"ticks\":\"\"},\"baxis\":{\"gridcolor\":\"white\",\"linecolor\":\"white\",\"ticks\":\"\"},\"bgcolor\":\"#E5ECF6\",\"caxis\":{\"gridcolor\":\"white\",\"linecolor\":\"white\",\"ticks\":\"\"}},\"title\":{\"x\":0.05},\"xaxis\":{\"automargin\":true,\"gridcolor\":\"white\",\"linecolor\":\"white\",\"ticks\":\"\",\"title\":{\"standoff\":15},\"zerolinecolor\":\"white\",\"zerolinewidth\":2},\"yaxis\":{\"automargin\":true,\"gridcolor\":\"white\",\"linecolor\":\"white\",\"ticks\":\"\",\"title\":{\"standoff\":15},\"zerolinecolor\":\"white\",\"zerolinewidth\":2}}},\"xaxis\":{\"anchor\":\"y\",\"domain\":[0.0,1.0],\"title\":{\"text\":\"Si\"}},\"yaxis\":{\"anchor\":\"x\",\"domain\":[0.0,1.0],\"title\":{\"text\":\"K\"}},\"coloraxis\":{\"colorbar\":{\"title\":{\"text\":\"Type of Glass\"}},\"colorscale\":[[0.0,\"#0d0887\"],[0.1111111111111111,\"#46039f\"],[0.2222222222222222,\"#7201a8\"],[0.3333333333333333,\"#9c179e\"],[0.4444444444444444,\"#bd3786\"],[0.5555555555555556,\"#d8576b\"],[0.6666666666666666,\"#ed7953\"],[0.7777777777777778,\"#fb9f3a\"],[0.8888888888888888,\"#fdca26\"],[1.0,\"#f0f921\"]]},\"legend\":{\"tracegroupgap\":0},\"margin\":{\"t\":60}},                        {\"responsive\": true}                    ).then(function(){\n",
              "                            \n",
              "var gd = document.getElementById('0742ca4d-0f9d-4d13-8b75-750a3db63883');\n",
              "var x = new MutationObserver(function (mutations, observer) {{\n",
              "        var display = window.getComputedStyle(gd).display;\n",
              "        if (!display || display === 'none') {{\n",
              "            console.log([gd, 'removed!']);\n",
              "            Plotly.purge(gd);\n",
              "            observer.disconnect();\n",
              "        }}\n",
              "}});\n",
              "\n",
              "// Listen for the removal of the full notebook cells\n",
              "var notebookContainer = gd.closest('#notebook-container');\n",
              "if (notebookContainer) {{\n",
              "    x.observe(notebookContainer, {childList: true});\n",
              "}}\n",
              "\n",
              "// Listen for the clearing of the current output cell\n",
              "var outputEl = gd.closest('.output');\n",
              "if (outputEl) {{\n",
              "    x.observe(outputEl, {childList: true});\n",
              "}}\n",
              "\n",
              "                        })                };                            </script>        </div>\n",
              "</body>\n",
              "</html>"
            ]
          },
          "metadata": {}
        }
      ]
    },
    {
      "cell_type": "code",
      "source": [
        "import plotly.express as px\n",
        "fig = px.scatter(Train,x='Ca',y='Ba',color='Type of Glass',trendline=\"ols\")\n",
        "fig.show()"
      ],
      "metadata": {
        "colab": {
          "base_uri": "https://localhost:8080/",
          "height": 542
        },
        "id": "bN1ritF4t9ti",
        "outputId": "3c7fc29f-24f9-4aee-b367-14336366d72d"
      },
      "execution_count": null,
      "outputs": [
        {
          "output_type": "display_data",
          "data": {
            "text/html": [
              "<html>\n",
              "<head><meta charset=\"utf-8\" /></head>\n",
              "<body>\n",
              "    <div>            <script src=\"https://cdnjs.cloudflare.com/ajax/libs/mathjax/2.7.5/MathJax.js?config=TeX-AMS-MML_SVG\"></script><script type=\"text/javascript\">if (window.MathJax) {MathJax.Hub.Config({SVG: {font: \"STIX-Web\"}});}</script>                <script type=\"text/javascript\">window.PlotlyConfig = {MathJaxConfig: 'local'};</script>\n",
              "        <script src=\"https://cdn.plot.ly/plotly-2.8.3.min.js\"></script>                <div id=\"ccffda2e-4380-49b8-8eb1-f0a5a82d8f3f\" class=\"plotly-graph-div\" style=\"height:525px; width:100%;\"></div>            <script type=\"text/javascript\">                                    window.PLOTLYENV=window.PLOTLYENV || {};                                    if (document.getElementById(\"ccffda2e-4380-49b8-8eb1-f0a5a82d8f3f\")) {                    Plotly.newPlot(                        \"ccffda2e-4380-49b8-8eb1-f0a5a82d8f3f\",                        [{\"hovertemplate\":\"Ca=%{x}<br>Ba=%{y}<br>Type of Glass=%{marker.color}<extra></extra>\",\"legendgroup\":\"\",\"marker\":{\"color\":[1,1,1,1,1,1,1,1,1,1,1,1,1,1,1,1,1,1,1,1,1,1,1,1,1,1,1,1,1,1,1,1,1,1,1,1,1,1,1,1,1,1,1,1,1,1,1,1,1,1,1,1,1,1,1,1,1,1,1,1,1,1,1,1,1,1,1,2,2,2,2,2,2,2,2,2,2,2,2,2,2,2,2,2,2,2,2,2,2,2,2,2,2,2,2,2,2,2,2,2,2,2,2,2,2,2,2,2,2,2,2,2,2,2,2,2,2,2,2,2,2,2,2,2,2,2,2,2,2,2,2,2,2,2,2,2,2,2,2,2,3,3,3,3,3,3,3,3,3,3,3,3,3,3,5,5,5,5,5,5,5,5,5,5,6,6,6,6,6,6,7,7,7,7,7,7,7,7,7,7,7,7,7,7,7,7,7,7,7,7,7,7,7,7,7,7],\"coloraxis\":\"coloraxis\",\"symbol\":\"circle\"},\"mode\":\"markers\",\"name\":\"\",\"orientation\":\"v\",\"showlegend\":false,\"x\":[8.75,7.83,7.78,8.22,8.07,8.07,8.17,8.24,8.3,8.4,8.09,8.56,8.05,8.38,8.5,8.39,8.7,9.15,8.89,8.44,8.52,9.0,8.7,8.59,8.43,8.53,8.43,8.43,8.54,8.49,8.69,8.55,8.56,8.55,8.75,8.57,8.78,8.68,9.57,9.57,8.77,8.64,8.59,9.74,8.76,9.0,8.83,9.82,10.02,8.91,10.06,9.14,9.03,9.07,9.02,9.06,8.35,8.43,8.03,8.27,8.76,8.67,9.54,9.69,9.61,9.4,9.85,7.36,8.32,7.83,7.89,7.9,7.96,8.03,8.04,7.94,7.97,7.97,7.86,8.1,8.05,7.08,8.21,8.03,8.08,8.12,8.08,8.96,8.27,8.39,8.22,8.24,8.6,9.13,8.9,8.54,8.79,8.79,9.23,9.42,11.64,10.79,13.24,13.3,16.19,11.52,10.99,14.68,14.96,14.4,8.21,8.43,8.28,8.31,7.88,8.03,7.96,8.42,8.03,8.1,7.99,8.52,8.55,8.6,9.85,9.57,10.56,11.14,13.44,8.15,8.21,8.12,8.44,8.38,8.11,7.9,7.99,8.11,8.41,8.23,8.6,8.33,8.44,8.53,8.38,9.49,8.93,8.32,8.79,8.58,8.65,9.65,8.79,8.81,5.87,10.09,11.41,11.62,11.53,10.17,11.32,12.24,6.96,6.93,9.57,9.77,9.26,9.32,7.59,9.95,5.43,5.79,8.83,9.76,8.61,8.67,8.76,9.04,8.53,8.52,9.07,9.41,8.95,9.08,8.83,8.34,8.93,8.39,8.28,8.71,8.61,8.67,6.47,9.45,9.18,8.4],\"xaxis\":\"x\",\"y\":[0.0,0.0,0.0,0.0,0.0,0.0,0.0,0.0,0.0,0.0,0.0,0.0,0.0,0.0,0.0,0.0,0.0,0.0,0.0,0.0,0.0,0.0,0.0,0.0,0.0,0.0,0.0,0.0,0.0,0.0,0.0,0.0,0.09,0.0,0.0,0.0,0.11,0.0,0.0,0.0,0.0,0.0,0.0,0.0,0.0,0.0,0.0,0.0,0.0,0.0,0.0,0.0,0.0,0.0,0.0,0.0,0.0,0.0,0.0,0.0,0.0,0.69,0.0,0.0,0.0,0.0,0.0,0.0,0.0,0.0,0.0,0.0,0.0,0.0,0.0,0.0,0.0,0.0,0.0,0.0,0.0,0.0,0.0,0.0,0.0,0.0,0.0,0.0,0.0,0.0,0.0,0.0,0.0,0.0,0.0,0.0,0.14,0.11,0.0,0.0,0.0,0.0,0.0,3.15,0.0,0.0,0.0,0.0,0.0,0.0,0.0,0.0,0.0,0.0,0.0,0.0,0.0,0.0,0.0,0.0,0.0,0.0,0.0,0.0,0.0,0.27,0.0,0.0,0.0,0.0,0.0,0.0,0.0,0.0,0.0,0.0,0.0,0.0,0.09,0.06,0.0,0.0,0.0,0.0,0.0,0.0,0.0,0.0,0.0,0.0,0.0,0.0,0.0,0.0,2.2,0.0,0.0,0.0,0.0,0.0,0.0,0.0,0.0,0.0,0.0,0.0,0.0,0.0,0.0,0.0,1.19,1.63,0.0,0.0,1.68,0.76,0.64,0.4,1.59,1.57,0.61,0.81,0.66,0.64,0.53,0.63,0.0,0.56,1.71,0.67,1.55,1.38,2.88,0.54,1.06,1.59],\"yaxis\":\"y\",\"type\":\"scatter\"},{\"hovertemplate\":\"<b>OLS trendline</b><br>Ba = -0.0343327 * Ca + 0.470163<br>R<sup>2</sup>=0.010117<br><br>Ca=%{x}<br>Ba=%{y} <b>(trend)</b><extra></extra>\",\"legendgroup\":\"\",\"marker\":{\"symbol\":\"circle\"},\"mode\":\"lines\",\"name\":\"\",\"showlegend\":false,\"x\":[5.43,5.79,5.87,6.47,6.93,6.96,7.08,7.36,7.59,7.78,7.83,7.83,7.86,7.88,7.89,7.9,7.9,7.94,7.96,7.96,7.97,7.97,7.99,7.99,8.03,8.03,8.03,8.03,8.03,8.04,8.05,8.05,8.07,8.07,8.08,8.08,8.09,8.1,8.1,8.11,8.11,8.12,8.12,8.15,8.17,8.21,8.21,8.21,8.22,8.22,8.23,8.24,8.24,8.27,8.27,8.28,8.28,8.3,8.31,8.32,8.32,8.33,8.34,8.35,8.38,8.38,8.38,8.39,8.39,8.39,8.4,8.4,8.41,8.42,8.43,8.43,8.43,8.43,8.43,8.44,8.44,8.44,8.49,8.5,8.52,8.52,8.52,8.53,8.53,8.53,8.54,8.54,8.55,8.55,8.55,8.56,8.56,8.57,8.58,8.59,8.59,8.6,8.6,8.6,8.61,8.61,8.64,8.65,8.67,8.67,8.67,8.68,8.69,8.7,8.7,8.71,8.75,8.75,8.76,8.76,8.76,8.77,8.78,8.79,8.79,8.79,8.79,8.81,8.83,8.83,8.83,8.89,8.9,8.91,8.93,8.93,8.95,8.96,9.0,9.0,9.02,9.03,9.04,9.06,9.07,9.07,9.08,9.13,9.14,9.15,9.18,9.23,9.26,9.32,9.4,9.41,9.42,9.45,9.49,9.54,9.57,9.57,9.57,9.57,9.61,9.65,9.69,9.74,9.76,9.77,9.82,9.85,9.85,9.95,10.02,10.06,10.09,10.17,10.56,10.79,10.99,11.14,11.32,11.41,11.52,11.53,11.62,11.64,12.24,13.24,13.3,13.44,14.4,14.68,14.96,16.19],\"xaxis\":\"x\",\"y\":[0.2837369723533618,0.2713772045815973,0.26863058952120517,0.2480309765682643,0.23223793997100967,0.2312079593233626,0.22708803673277442,0.21747488402140203,0.20957836572277472,0.2030551549543434,0.20133852054159834,0.20133852054159834,0.2003085398939513,0.1996218861288533,0.19927855924630428,0.1989352323637552,0.1989352323637552,0.19756192483355917,0.19687527106846114,0.19687527106846114,0.19653194418591213,0.19653194418591213,0.1958452904208141,0.1958452904208141,0.19447198289061807,0.19447198289061807,0.19447198289061807,0.19447198289061807,0.19447198289061807,0.19412865600806906,0.19378532912552,0.19378532912552,0.19309867536042197,0.19309867536042197,0.19275534847787296,0.19275534847787296,0.192412021595324,0.192068694712775,0.192068694712775,0.19172536783022598,0.19172536783022598,0.19138204094767697,0.19138204094767697,0.19035206030002988,0.18966540653493186,0.18829209900473576,0.18829209900473576,0.18829209900473576,0.18794877212218675,0.18794877212218675,0.18760544523963774,0.18726211835708872,0.18726211835708872,0.18623213770944175,0.18623213770944175,0.18588881082689274,0.18588881082689274,0.18520215706179466,0.18485883017924565,0.18451550329669664,0.18451550329669664,0.18417217641414763,0.18382884953159861,0.1834855226490496,0.18245554200140252,0.18245554200140252,0.18245554200140252,0.1821122151188535,0.1821122151188535,0.1821122151188535,0.1817688882363045,0.1817688882363045,0.18142556135375548,0.18108223447120647,0.18073890758865746,0.18073890758865746,0.18073890758865746,0.18073890758865746,0.18073890758865746,0.1803955807061085,0.1803955807061085,0.1803955807061085,0.1786789462933634,0.17833561941081438,0.17764896564571636,0.17764896564571636,0.17764896564571636,0.17730563876316735,0.17730563876316735,0.17730563876316735,0.17696231188061834,0.17696231188061834,0.17661898499806927,0.17661898499806927,0.17661898499806927,0.17627565811552026,0.17627565811552026,0.17593233123297125,0.17558900435042224,0.17524567746787323,0.17524567746787323,0.17490235058532422,0.17490235058532422,0.17490235058532422,0.17455902370277526,0.17455902370277526,0.17352904305512817,0.17318571617257916,0.17249906240748114,0.17249906240748114,0.17249906240748114,0.17215573552493213,0.17181240864238312,0.1714690817598341,0.1714690817598341,0.17112575487728504,0.169752447347089,0.169752447347089,0.16940912046454,0.16940912046454,0.16940912046454,0.16906579358199098,0.16872246669944202,0.168379139816893,0.168379139816893,0.168379139816893,0.168379139816893,0.16769248605179493,0.1670058322866969,0.1670058322866969,0.1670058322866969,0.1649458709914028,0.16460254410885378,0.16425921722630477,0.16357256346120674,0.16357256346120674,0.16288590969610878,0.16254258281355966,0.16116927528336367,0.16116927528336367,0.16048262151826564,0.16013929463571663,0.15979596775316762,0.15910931398806955,0.15876598710552053,0.15876598710552053,0.15842266022297152,0.1567060258102264,0.15636269892767746,0.15601937204512845,0.1549893913974814,0.1532727569847363,0.15224277633708927,0.1501828150417952,0.14743619998140306,0.14709287309885405,0.14674954621630504,0.145719565568658,0.14434625803846196,0.1426296236257169,0.14159964297806982,0.14159964297806982,0.14159964297806982,0.14159964297806982,0.14022633544787377,0.13885302791767767,0.13747972038748169,0.13576308597473657,0.13507643220963855,0.13473310532708954,0.13301647091434443,0.13198649026669745,0.13198649026669745,0.1285532214412073,0.1261499332633642,0.12477662573316811,0.12374664508552108,0.12100003002512894,0.1076102816057174,0.09971376330709009,0.09284722565610976,0.08769732241787453,0.08151743853199228,0.07842749658905118,0.074650900881012,0.074307573998463,0.0712176320555219,0.07053097829042382,0.049931365337482936,0.015598677082581502,0.013538715787287381,0.008732139431601227,-0.024227241293104163,-0.03384039400447658,-0.043453546715849,-0.0856827532693778],\"yaxis\":\"y\",\"type\":\"scatter\"}],                        {\"template\":{\"data\":{\"bar\":[{\"error_x\":{\"color\":\"#2a3f5f\"},\"error_y\":{\"color\":\"#2a3f5f\"},\"marker\":{\"line\":{\"color\":\"#E5ECF6\",\"width\":0.5},\"pattern\":{\"fillmode\":\"overlay\",\"size\":10,\"solidity\":0.2}},\"type\":\"bar\"}],\"barpolar\":[{\"marker\":{\"line\":{\"color\":\"#E5ECF6\",\"width\":0.5},\"pattern\":{\"fillmode\":\"overlay\",\"size\":10,\"solidity\":0.2}},\"type\":\"barpolar\"}],\"carpet\":[{\"aaxis\":{\"endlinecolor\":\"#2a3f5f\",\"gridcolor\":\"white\",\"linecolor\":\"white\",\"minorgridcolor\":\"white\",\"startlinecolor\":\"#2a3f5f\"},\"baxis\":{\"endlinecolor\":\"#2a3f5f\",\"gridcolor\":\"white\",\"linecolor\":\"white\",\"minorgridcolor\":\"white\",\"startlinecolor\":\"#2a3f5f\"},\"type\":\"carpet\"}],\"choropleth\":[{\"colorbar\":{\"outlinewidth\":0,\"ticks\":\"\"},\"type\":\"choropleth\"}],\"contour\":[{\"colorbar\":{\"outlinewidth\":0,\"ticks\":\"\"},\"colorscale\":[[0.0,\"#0d0887\"],[0.1111111111111111,\"#46039f\"],[0.2222222222222222,\"#7201a8\"],[0.3333333333333333,\"#9c179e\"],[0.4444444444444444,\"#bd3786\"],[0.5555555555555556,\"#d8576b\"],[0.6666666666666666,\"#ed7953\"],[0.7777777777777778,\"#fb9f3a\"],[0.8888888888888888,\"#fdca26\"],[1.0,\"#f0f921\"]],\"type\":\"contour\"}],\"contourcarpet\":[{\"colorbar\":{\"outlinewidth\":0,\"ticks\":\"\"},\"type\":\"contourcarpet\"}],\"heatmap\":[{\"colorbar\":{\"outlinewidth\":0,\"ticks\":\"\"},\"colorscale\":[[0.0,\"#0d0887\"],[0.1111111111111111,\"#46039f\"],[0.2222222222222222,\"#7201a8\"],[0.3333333333333333,\"#9c179e\"],[0.4444444444444444,\"#bd3786\"],[0.5555555555555556,\"#d8576b\"],[0.6666666666666666,\"#ed7953\"],[0.7777777777777778,\"#fb9f3a\"],[0.8888888888888888,\"#fdca26\"],[1.0,\"#f0f921\"]],\"type\":\"heatmap\"}],\"heatmapgl\":[{\"colorbar\":{\"outlinewidth\":0,\"ticks\":\"\"},\"colorscale\":[[0.0,\"#0d0887\"],[0.1111111111111111,\"#46039f\"],[0.2222222222222222,\"#7201a8\"],[0.3333333333333333,\"#9c179e\"],[0.4444444444444444,\"#bd3786\"],[0.5555555555555556,\"#d8576b\"],[0.6666666666666666,\"#ed7953\"],[0.7777777777777778,\"#fb9f3a\"],[0.8888888888888888,\"#fdca26\"],[1.0,\"#f0f921\"]],\"type\":\"heatmapgl\"}],\"histogram\":[{\"marker\":{\"pattern\":{\"fillmode\":\"overlay\",\"size\":10,\"solidity\":0.2}},\"type\":\"histogram\"}],\"histogram2d\":[{\"colorbar\":{\"outlinewidth\":0,\"ticks\":\"\"},\"colorscale\":[[0.0,\"#0d0887\"],[0.1111111111111111,\"#46039f\"],[0.2222222222222222,\"#7201a8\"],[0.3333333333333333,\"#9c179e\"],[0.4444444444444444,\"#bd3786\"],[0.5555555555555556,\"#d8576b\"],[0.6666666666666666,\"#ed7953\"],[0.7777777777777778,\"#fb9f3a\"],[0.8888888888888888,\"#fdca26\"],[1.0,\"#f0f921\"]],\"type\":\"histogram2d\"}],\"histogram2dcontour\":[{\"colorbar\":{\"outlinewidth\":0,\"ticks\":\"\"},\"colorscale\":[[0.0,\"#0d0887\"],[0.1111111111111111,\"#46039f\"],[0.2222222222222222,\"#7201a8\"],[0.3333333333333333,\"#9c179e\"],[0.4444444444444444,\"#bd3786\"],[0.5555555555555556,\"#d8576b\"],[0.6666666666666666,\"#ed7953\"],[0.7777777777777778,\"#fb9f3a\"],[0.8888888888888888,\"#fdca26\"],[1.0,\"#f0f921\"]],\"type\":\"histogram2dcontour\"}],\"mesh3d\":[{\"colorbar\":{\"outlinewidth\":0,\"ticks\":\"\"},\"type\":\"mesh3d\"}],\"parcoords\":[{\"line\":{\"colorbar\":{\"outlinewidth\":0,\"ticks\":\"\"}},\"type\":\"parcoords\"}],\"pie\":[{\"automargin\":true,\"type\":\"pie\"}],\"scatter\":[{\"marker\":{\"colorbar\":{\"outlinewidth\":0,\"ticks\":\"\"}},\"type\":\"scatter\"}],\"scatter3d\":[{\"line\":{\"colorbar\":{\"outlinewidth\":0,\"ticks\":\"\"}},\"marker\":{\"colorbar\":{\"outlinewidth\":0,\"ticks\":\"\"}},\"type\":\"scatter3d\"}],\"scattercarpet\":[{\"marker\":{\"colorbar\":{\"outlinewidth\":0,\"ticks\":\"\"}},\"type\":\"scattercarpet\"}],\"scattergeo\":[{\"marker\":{\"colorbar\":{\"outlinewidth\":0,\"ticks\":\"\"}},\"type\":\"scattergeo\"}],\"scattergl\":[{\"marker\":{\"colorbar\":{\"outlinewidth\":0,\"ticks\":\"\"}},\"type\":\"scattergl\"}],\"scattermapbox\":[{\"marker\":{\"colorbar\":{\"outlinewidth\":0,\"ticks\":\"\"}},\"type\":\"scattermapbox\"}],\"scatterpolar\":[{\"marker\":{\"colorbar\":{\"outlinewidth\":0,\"ticks\":\"\"}},\"type\":\"scatterpolar\"}],\"scatterpolargl\":[{\"marker\":{\"colorbar\":{\"outlinewidth\":0,\"ticks\":\"\"}},\"type\":\"scatterpolargl\"}],\"scatterternary\":[{\"marker\":{\"colorbar\":{\"outlinewidth\":0,\"ticks\":\"\"}},\"type\":\"scatterternary\"}],\"surface\":[{\"colorbar\":{\"outlinewidth\":0,\"ticks\":\"\"},\"colorscale\":[[0.0,\"#0d0887\"],[0.1111111111111111,\"#46039f\"],[0.2222222222222222,\"#7201a8\"],[0.3333333333333333,\"#9c179e\"],[0.4444444444444444,\"#bd3786\"],[0.5555555555555556,\"#d8576b\"],[0.6666666666666666,\"#ed7953\"],[0.7777777777777778,\"#fb9f3a\"],[0.8888888888888888,\"#fdca26\"],[1.0,\"#f0f921\"]],\"type\":\"surface\"}],\"table\":[{\"cells\":{\"fill\":{\"color\":\"#EBF0F8\"},\"line\":{\"color\":\"white\"}},\"header\":{\"fill\":{\"color\":\"#C8D4E3\"},\"line\":{\"color\":\"white\"}},\"type\":\"table\"}]},\"layout\":{\"annotationdefaults\":{\"arrowcolor\":\"#2a3f5f\",\"arrowhead\":0,\"arrowwidth\":1},\"autotypenumbers\":\"strict\",\"coloraxis\":{\"colorbar\":{\"outlinewidth\":0,\"ticks\":\"\"}},\"colorscale\":{\"diverging\":[[0,\"#8e0152\"],[0.1,\"#c51b7d\"],[0.2,\"#de77ae\"],[0.3,\"#f1b6da\"],[0.4,\"#fde0ef\"],[0.5,\"#f7f7f7\"],[0.6,\"#e6f5d0\"],[0.7,\"#b8e186\"],[0.8,\"#7fbc41\"],[0.9,\"#4d9221\"],[1,\"#276419\"]],\"sequential\":[[0.0,\"#0d0887\"],[0.1111111111111111,\"#46039f\"],[0.2222222222222222,\"#7201a8\"],[0.3333333333333333,\"#9c179e\"],[0.4444444444444444,\"#bd3786\"],[0.5555555555555556,\"#d8576b\"],[0.6666666666666666,\"#ed7953\"],[0.7777777777777778,\"#fb9f3a\"],[0.8888888888888888,\"#fdca26\"],[1.0,\"#f0f921\"]],\"sequentialminus\":[[0.0,\"#0d0887\"],[0.1111111111111111,\"#46039f\"],[0.2222222222222222,\"#7201a8\"],[0.3333333333333333,\"#9c179e\"],[0.4444444444444444,\"#bd3786\"],[0.5555555555555556,\"#d8576b\"],[0.6666666666666666,\"#ed7953\"],[0.7777777777777778,\"#fb9f3a\"],[0.8888888888888888,\"#fdca26\"],[1.0,\"#f0f921\"]]},\"colorway\":[\"#636efa\",\"#EF553B\",\"#00cc96\",\"#ab63fa\",\"#FFA15A\",\"#19d3f3\",\"#FF6692\",\"#B6E880\",\"#FF97FF\",\"#FECB52\"],\"font\":{\"color\":\"#2a3f5f\"},\"geo\":{\"bgcolor\":\"white\",\"lakecolor\":\"white\",\"landcolor\":\"#E5ECF6\",\"showlakes\":true,\"showland\":true,\"subunitcolor\":\"white\"},\"hoverlabel\":{\"align\":\"left\"},\"hovermode\":\"closest\",\"mapbox\":{\"style\":\"light\"},\"paper_bgcolor\":\"white\",\"plot_bgcolor\":\"#E5ECF6\",\"polar\":{\"angularaxis\":{\"gridcolor\":\"white\",\"linecolor\":\"white\",\"ticks\":\"\"},\"bgcolor\":\"#E5ECF6\",\"radialaxis\":{\"gridcolor\":\"white\",\"linecolor\":\"white\",\"ticks\":\"\"}},\"scene\":{\"xaxis\":{\"backgroundcolor\":\"#E5ECF6\",\"gridcolor\":\"white\",\"gridwidth\":2,\"linecolor\":\"white\",\"showbackground\":true,\"ticks\":\"\",\"zerolinecolor\":\"white\"},\"yaxis\":{\"backgroundcolor\":\"#E5ECF6\",\"gridcolor\":\"white\",\"gridwidth\":2,\"linecolor\":\"white\",\"showbackground\":true,\"ticks\":\"\",\"zerolinecolor\":\"white\"},\"zaxis\":{\"backgroundcolor\":\"#E5ECF6\",\"gridcolor\":\"white\",\"gridwidth\":2,\"linecolor\":\"white\",\"showbackground\":true,\"ticks\":\"\",\"zerolinecolor\":\"white\"}},\"shapedefaults\":{\"line\":{\"color\":\"#2a3f5f\"}},\"ternary\":{\"aaxis\":{\"gridcolor\":\"white\",\"linecolor\":\"white\",\"ticks\":\"\"},\"baxis\":{\"gridcolor\":\"white\",\"linecolor\":\"white\",\"ticks\":\"\"},\"bgcolor\":\"#E5ECF6\",\"caxis\":{\"gridcolor\":\"white\",\"linecolor\":\"white\",\"ticks\":\"\"}},\"title\":{\"x\":0.05},\"xaxis\":{\"automargin\":true,\"gridcolor\":\"white\",\"linecolor\":\"white\",\"ticks\":\"\",\"title\":{\"standoff\":15},\"zerolinecolor\":\"white\",\"zerolinewidth\":2},\"yaxis\":{\"automargin\":true,\"gridcolor\":\"white\",\"linecolor\":\"white\",\"ticks\":\"\",\"title\":{\"standoff\":15},\"zerolinecolor\":\"white\",\"zerolinewidth\":2}}},\"xaxis\":{\"anchor\":\"y\",\"domain\":[0.0,1.0],\"title\":{\"text\":\"Ca\"}},\"yaxis\":{\"anchor\":\"x\",\"domain\":[0.0,1.0],\"title\":{\"text\":\"Ba\"}},\"coloraxis\":{\"colorbar\":{\"title\":{\"text\":\"Type of Glass\"}},\"colorscale\":[[0.0,\"#0d0887\"],[0.1111111111111111,\"#46039f\"],[0.2222222222222222,\"#7201a8\"],[0.3333333333333333,\"#9c179e\"],[0.4444444444444444,\"#bd3786\"],[0.5555555555555556,\"#d8576b\"],[0.6666666666666666,\"#ed7953\"],[0.7777777777777778,\"#fb9f3a\"],[0.8888888888888888,\"#fdca26\"],[1.0,\"#f0f921\"]]},\"legend\":{\"tracegroupgap\":0},\"margin\":{\"t\":60}},                        {\"responsive\": true}                    ).then(function(){\n",
              "                            \n",
              "var gd = document.getElementById('ccffda2e-4380-49b8-8eb1-f0a5a82d8f3f');\n",
              "var x = new MutationObserver(function (mutations, observer) {{\n",
              "        var display = window.getComputedStyle(gd).display;\n",
              "        if (!display || display === 'none') {{\n",
              "            console.log([gd, 'removed!']);\n",
              "            Plotly.purge(gd);\n",
              "            observer.disconnect();\n",
              "        }}\n",
              "}});\n",
              "\n",
              "// Listen for the removal of the full notebook cells\n",
              "var notebookContainer = gd.closest('#notebook-container');\n",
              "if (notebookContainer) {{\n",
              "    x.observe(notebookContainer, {childList: true});\n",
              "}}\n",
              "\n",
              "// Listen for the clearing of the current output cell\n",
              "var outputEl = gd.closest('.output');\n",
              "if (outputEl) {{\n",
              "    x.observe(outputEl, {childList: true});\n",
              "}}\n",
              "\n",
              "                        })                };                            </script>        </div>\n",
              "</body>\n",
              "</html>"
            ]
          },
          "metadata": {}
        }
      ]
    },
    {
      "cell_type": "code",
      "source": [
        "plt.figure(1, figsize=(5,5))\n",
        "plt.title(\"Type percentage\")\n",
        "Train['Type of Glass'].value_counts().plot.pie(autopct=\"%0.2f%%\")"
      ],
      "metadata": {
        "colab": {
          "base_uri": "https://localhost:8080/",
          "height": 336
        },
        "id": "m9N47b5-wKZM",
        "outputId": "a5d957e4-6ef5-47e6-98a4-d0836c4ccff3"
      },
      "execution_count": null,
      "outputs": [
        {
          "output_type": "execute_result",
          "data": {
            "text/plain": [
              "<matplotlib.axes._subplots.AxesSubplot at 0x7f57f6f1b6d0>"
            ]
          },
          "metadata": {},
          "execution_count": 11
        },
        {
          "output_type": "display_data",
          "data": {
            "text/plain": [
              "<Figure size 360x360 with 1 Axes>"
            ],
            "image/png": "[encoded data removed]"
          },
          "metadata": {}
        }
      ]
    },
    {
      "cell_type": "markdown",
      "source": [
        "# **Train dataset euclidean and manhattan.**"
      ],
      "metadata": {
        "id": "cEZPVRuK1g-7"
      }
    },
    {
      "cell_type": "code",
      "source": [
        "x_train = Train.drop([\"Type of Glass\"], axis=1)\n",
        "y_train = Train[\"Type of Glass\"]"
      ],
      "metadata": {
        "id": "7Twe5mQf34Fj"
      },
      "execution_count": null,
      "outputs": []
    },
    {
      "cell_type": "code",
      "source": [
        "from sklearn.preprocessing import StandardScaler #scalling\n",
        "scaler = StandardScaler()\n",
        "x_train = scaler.fit_transform(x_train)"
      ],
      "metadata": {
        "id": "hnjyxW2r23o1"
      },
      "execution_count": null,
      "outputs": []
    },
    {
      "cell_type": "code",
      "source": [
        "for i in [1,2,3,4,5,6,7,8,9,10]:\n",
        "  knn = KNeighborsClassifier(i) \n",
        "  knn.fit(x_train,y_train) \n",
        "  print(\"K value  : \" , i,\"train_score;\",knn.score(x_train,y_train), \" score : \", np.mean(cross_val_score(knn, x_train, y_train, cv=10)))"
      ],
      "metadata": {
        "colab": {
          "base_uri": "https://localhost:8080/"
        },
        "id": "vaXtPLmN4bJY",
        "outputId": "7d418075-c66a-4c74-de22-2141e97b4249"
      },
      "execution_count": null,
      "outputs": [
        {
          "output_type": "stream",
          "name": "stderr",
          "text": [
            "/usr/local/lib/python3.7/dist-packages/sklearn/model_selection/_split.py:680: UserWarning:\n",
            "\n",
            "The least populated class in y has only 6 members, which is less than n_splits=10.\n",
            "\n",
            "/usr/local/lib/python3.7/dist-packages/sklearn/model_selection/_split.py:680: UserWarning:\n",
            "\n",
            "The least populated class in y has only 6 members, which is less than n_splits=10.\n",
            "\n"
          ]
        },
        {
          "output_type": "stream",
          "name": "stdout",
          "text": [
            "K value  :  1 train_score; 1.0  score :  0.8363157894736842\n",
            "K value  :  2 train_score; 0.9132653061224489  score :  0.8381578947368421\n",
            "K value  :  3 train_score; 0.9489795918367347  score :  0.8728947368421052\n",
            "K value  :  4 train_score; 0.9030612244897959  score :  0.8476315789473684\n",
            "K value  :  5 train_score; 0.923469387755102  score :  0.8878947368421052\n"
          ]
        },
        {
          "output_type": "stream",
          "name": "stderr",
          "text": [
            "/usr/local/lib/python3.7/dist-packages/sklearn/model_selection/_split.py:680: UserWarning:\n",
            "\n",
            "The least populated class in y has only 6 members, which is less than n_splits=10.\n",
            "\n",
            "/usr/local/lib/python3.7/dist-packages/sklearn/model_selection/_split.py:680: UserWarning:\n",
            "\n",
            "The least populated class in y has only 6 members, which is less than n_splits=10.\n",
            "\n",
            "/usr/local/lib/python3.7/dist-packages/sklearn/model_selection/_split.py:680: UserWarning:\n",
            "\n",
            "The least populated class in y has only 6 members, which is less than n_splits=10.\n",
            "\n",
            "/usr/local/lib/python3.7/dist-packages/sklearn/model_selection/_split.py:680: UserWarning:\n",
            "\n",
            "The least populated class in y has only 6 members, which is less than n_splits=10.\n",
            "\n",
            "/usr/local/lib/python3.7/dist-packages/sklearn/model_selection/_split.py:680: UserWarning:\n",
            "\n",
            "The least populated class in y has only 6 members, which is less than n_splits=10.\n",
            "\n"
          ]
        },
        {
          "output_type": "stream",
          "name": "stdout",
          "text": [
            "K value  :  6 train_score; 0.9081632653061225  score :  0.8428947368421053\n",
            "K value  :  7 train_score; 0.9030612244897959  score :  0.8576315789473684\n",
            "K value  :  8 train_score; 0.9081632653061225  score :  0.8071052631578948\n",
            "K value  :  9 train_score; 0.8928571428571429  score :  0.8121052631578948\n",
            "K value  :  10 train_score; 0.8622448979591837  score :  0.8021052631578949\n"
          ]
        },
        {
          "output_type": "stream",
          "name": "stderr",
          "text": [
            "/usr/local/lib/python3.7/dist-packages/sklearn/model_selection/_split.py:680: UserWarning:\n",
            "\n",
            "The least populated class in y has only 6 members, which is less than n_splits=10.\n",
            "\n",
            "/usr/local/lib/python3.7/dist-packages/sklearn/model_selection/_split.py:680: UserWarning:\n",
            "\n",
            "The least populated class in y has only 6 members, which is less than n_splits=10.\n",
            "\n",
            "/usr/local/lib/python3.7/dist-packages/sklearn/model_selection/_split.py:680: UserWarning:\n",
            "\n",
            "The least populated class in y has only 6 members, which is less than n_splits=10.\n",
            "\n"
          ]
        }
      ]
    },
    {
      "cell_type": "code",
      "source": [
        "euclid_model = KNeighborsClassifier(n_neighbors=5, metric = 'euclidean')\n",
        "euclid_model.fit(x_train,y_train)"
      ],
      "metadata": {
        "colab": {
          "base_uri": "https://localhost:8080/"
        },
        "id": "FEyWVKRS4xBi",
        "outputId": "87beab84-7ef7-4043-9873-d05e7f970a6c"
      },
      "execution_count": null,
      "outputs": [
        {
          "output_type": "execute_result",
          "data": {
            "text/plain": [
              "KNeighborsClassifier(metric='euclidean')"
            ]
          },
          "metadata": {},
          "execution_count": 15
        }
      ]
    },
    {
      "cell_type": "code",
      "source": [
        "manhattan_model = KNeighborsClassifier(n_neighbors=5, metric='manhattan')\n",
        "manhattan_model.fit(x_train, y_train)"
      ],
      "metadata": {
        "colab": {
          "base_uri": "https://localhost:8080/"
        },
        "id": "ni17ZDDU6JZI",
        "outputId": "9ff139d0-574f-4246-c631-dd918ac70621"
      },
      "execution_count": null,
      "outputs": [
        {
          "output_type": "execute_result",
          "data": {
            "text/plain": [
              "KNeighborsClassifier(metric='manhattan')"
            ]
          },
          "metadata": {},
          "execution_count": 16
        }
      ]
    },
    {
      "cell_type": "code",
      "source": [
        "from sklearn.metrics import accuracy_score\n",
        "accu = accuracy_score(y_train,manhattan_model.predict(x_train))\n",
        "accu"
      ],
      "metadata": {
        "colab": {
          "base_uri": "https://localhost:8080/"
        },
        "id": "cflv0LFt4h6p",
        "outputId": "9d178afb-f6c3-4b5c-88ea-9213c15fb896"
      },
      "execution_count": null,
      "outputs": [
        {
          "output_type": "execute_result",
          "data": {
            "text/plain": [
              "0.9489795918367347"
            ]
          },
          "metadata": {},
          "execution_count": 17
        }
      ]
    },
    {
      "cell_type": "code",
      "source": [
        "from sklearn.metrics import accuracy_score\n",
        "accu = accuracy_score(y_train,euclid_model.predict(x_train))\n",
        "accu"
      ],
      "metadata": {
        "colab": {
          "base_uri": "https://localhost:8080/"
        },
        "id": "c1b88aIP4lHK",
        "outputId": "4d3565c5-9710-4b53-8534-36393d3c769b"
      },
      "execution_count": null,
      "outputs": [
        {
          "output_type": "execute_result",
          "data": {
            "text/plain": [
              "0.923469387755102"
            ]
          },
          "metadata": {},
          "execution_count": 18
        }
      ]
    },
    {
      "cell_type": "markdown",
      "source": [
        "# **Test dataset euclidean and manhattan.**"
      ],
      "metadata": {
        "id": "256Wzkbq7x14"
      }
    },
    {
      "cell_type": "code",
      "source": [
        "x_test = Test.drop([\"Type of Glass\"], axis=1)\n",
        "y_test = Test[\"Type of Glass\"]"
      ],
      "metadata": {
        "id": "Hj9UUiUG7swX"
      },
      "execution_count": null,
      "outputs": []
    },
    {
      "cell_type": "code",
      "source": [
        "from sklearn.preprocessing import StandardScaler #scalling\n",
        "scaler = StandardScaler()\n",
        "x_train = scaler.fit_transform(x_train)"
      ],
      "metadata": {
        "id": "qw0DKI-27_lS"
      },
      "execution_count": null,
      "outputs": []
    },
    {
      "cell_type": "code",
      "source": [
        "euclid_model = KNeighborsClassifier(n_neighbors=5, metric = 'euclidean')\n",
        "euclid_model.fit(x_test,y_test)"
      ],
      "metadata": {
        "colab": {
          "base_uri": "https://localhost:8080/"
        },
        "id": "uHbZuuLZ8FAo",
        "outputId": "faa0c811-5639-4ed2-a7b0-c09f00a12e6b"
      },
      "execution_count": null,
      "outputs": [
        {
          "output_type": "execute_result",
          "data": {
            "text/plain": [
              "KNeighborsClassifier(metric='euclidean')"
            ]
          },
          "metadata": {},
          "execution_count": 22
        }
      ]
    },
    {
      "cell_type": "code",
      "source": [
        "manhattan_model = KNeighborsClassifier(n_neighbors=5, metric='manhattan')\n",
        "manhattan_model.fit(x_test, y_test)"
      ],
      "metadata": {
        "colab": {
          "base_uri": "https://localhost:8080/"
        },
        "id": "yDoujAhp8PFu",
        "outputId": "fc01b8e9-53b6-4ef0-93cd-aed40ba0258e"
      },
      "execution_count": null,
      "outputs": [
        {
          "output_type": "execute_result",
          "data": {
            "text/plain": [
              "KNeighborsClassifier(metric='manhattan')"
            ]
          },
          "metadata": {},
          "execution_count": 23
        }
      ]
    },
    {
      "cell_type": "code",
      "source": [
        "from sklearn.metrics import accuracy_score\n",
        "accu = accuracy_score(y_test,manhattan_model.predict(x_test))\n",
        "accu"
      ],
      "metadata": {
        "colab": {
          "base_uri": "https://localhost:8080/"
        },
        "id": "c7Di_KUe4Wgy",
        "outputId": "f12cd2f6-6718-49f0-cffc-d8e5459d79a3"
      },
      "execution_count": null,
      "outputs": [
        {
          "output_type": "execute_result",
          "data": {
            "text/plain": [
              "1.0"
            ]
          },
          "metadata": {},
          "execution_count": 24
        }
      ]
    },
    {
      "cell_type": "code",
      "source": [
        "from sklearn.metrics import accuracy_score\n",
        "accu = accuracy_score(y_test,euclid_model.predict(x_test))\n",
        "accu"
      ],
      "metadata": {
        "colab": {
          "base_uri": "https://localhost:8080/"
        },
        "id": "m-DPNUaB4ZWS",
        "outputId": "bc2edf1f-4e61-439f-8ba3-a4baf0d5704b"
      },
      "execution_count": null,
      "outputs": [
        {
          "output_type": "execute_result",
          "data": {
            "text/plain": [
              "1.0"
            ]
          },
          "metadata": {},
          "execution_count": 25
        }
      ]
    }
  ]
}